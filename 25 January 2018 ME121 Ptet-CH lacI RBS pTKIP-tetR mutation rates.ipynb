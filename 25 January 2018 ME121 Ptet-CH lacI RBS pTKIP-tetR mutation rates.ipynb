{
 "cells": [
  {
   "cell_type": "code",
   "execution_count": 1,
   "metadata": {},
   "outputs": [
    {
     "name": "stdout",
     "output_type": "stream",
     "text": [
      "/home/kuhlmanlab/Documents/GitHub\n"
     ]
    }
   ],
   "source": [
    "cd /home/kuhlmanlab/Documents/GitHub/"
   ]
  },
  {
   "cell_type": "code",
   "execution_count": 2,
   "metadata": {
    "collapsed": true
   },
   "outputs": [],
   "source": [
    "import luriadelbruck as ldb\n",
    "import numpy as np"
   ]
  },
  {
   "cell_type": "markdown",
   "metadata": {},
   "source": [
    "This experiment used ME121 Ptet-mCherry::mutH (lacI RBS) pTKIP-Ptet-tetR. All cultures were in supplemented M9 (elez et al.) and had 2 mM iptg. There were 3 different concentrations of aTc: 0, .01, and .1 ng/mL. There were 10 replicates for each condition."
   ]
  },
  {
   "cell_type": "code",
   "execution_count": 3,
   "metadata": {
    "collapsed": true
   },
   "outputs": [],
   "source": [
    "aTc_0_rif = np.array([78,212,30,55,144,82,138,75,145,83])\n",
    "aTc_p01_rif = np.array([22,91,41,85,63,126,29,33,155,38])\n",
    "aTc_p1_rif = np.array([225,84,51,44,9,153,19,54,83,71])\n",
    "aTc_0_LB = np.array([7,65,70,56,101,60,194,104,73,75])*2.5*10**6\n",
    "aTc_p01_LB = np.array([42,26,45,30,45,58,32,43,77,35])*2.5*10**6\n",
    "aTc_p1_LB = np.array([31,18,35,17,33,35,26,28,55,58])*2.5*10**6"
   ]
  },
  {
   "cell_type": "code",
   "execution_count": 4,
   "metadata": {},
   "outputs": [
    {
     "name": "stdout",
     "output_type": "stream",
     "text": [
      "Optimization terminated successfully.\n",
      "         Current function value: 60.724925\n",
      "         Iterations: 12\n",
      "         Function evaluations: 24\n"
     ]
    },
    {
     "name": "stderr",
     "output_type": "stream",
     "text": [
      "/home/kuhlmanlab/Documents/GitHub/luriadelbruck.py:100: RuntimeWarning: divide by zero encountered in log\n",
      "  self.exog)))\n",
      "/home/kuhlmanlab/anaconda3/lib/python3.6/site-packages/statsmodels/base/model.py:473: HessianInversionWarning: Inverting hessian failed, no bse or cov_params available\n",
      "  'available', HessianInversionWarning)\n"
     ]
    },
    {
     "name": "stdout",
     "output_type": "stream",
     "text": [
      "Optimization terminated successfully.\n",
      "         Current function value: 52.318897\n",
      "         Iterations: 14\n",
      "         Function evaluations: 28\n",
      "Optimization terminated successfully.\n",
      "         Current function value: 56.726224\n",
      "         Iterations: 13\n",
      "         Function evaluations: 26\n",
      "the estimated mutation rate of ME121 Ptet-CH lacI RBS pTKIP-tetR with 2mM iptg and 0 ng/mL aTc is 8.73317841639e-08\n",
      "the estimated mutation rate of ME121 Ptet-CH lacI RBS pTKIP-tetR with 2mM iptg and .01 ng/mL aTc is 1.24484424634e-07\n",
      "the estimated mutation rate of ME121 Ptet-CH lacI RBS pTKIP-tetR with 2mM iptg and .1 ng/mL aTc is 1.41635645717e-07\n"
     ]
    }
   ],
   "source": [
    "sample1_inference =ldb.SarkarMaSandri(aTc_0_rif, aTc_0_LB)\n",
    "sample2_inference =ldb.SarkarMaSandri(aTc_p01_rif, aTc_p01_LB)\n",
    "sample3_inference =ldb.SarkarMaSandri(aTc_p1_rif, aTc_p1_LB)\n",
    "results1 = sample1_inference.fit()\n",
    "results2 = sample2_inference.fit()\n",
    "results3 = sample3_inference.fit()\n",
    "print('the estimated mutation rate of ME121 Ptet-CH lacI RBS pTKIP-tetR with 2mM iptg and 0 ng/mL aTc is', results1.params[0])\n",
    "print('the estimated mutation rate of ME121 Ptet-CH lacI RBS pTKIP-tetR with 2mM iptg and .01 ng/mL aTc is', results2.params[0])\n",
    "print('the estimated mutation rate of ME121 Ptet-CH lacI RBS pTKIP-tetR with 2mM iptg and .1 ng/mL aTc is', results3.params[0])"
   ]
  },
  {
   "cell_type": "markdown",
   "metadata": {
    "collapsed": true
   },
   "source": [
    "The 1st colony of 0 aTc has an extremely low count on LB. The 7th colony of .01 aTc and the 8th and 10th colonies of .1 aTc had a little bit of contamination on the LB plates (2 tiny colonies each). If we remove all these from the data"
   ]
  },
  {
   "cell_type": "code",
   "execution_count": 5,
   "metadata": {
    "collapsed": true
   },
   "outputs": [],
   "source": [
    "aTc_0_rif_cl = np.array([212,30,55,144,82,138,75,145,83])\n",
    "aTc_p01_rif_cl = np.array([22,91,41,85,63,126,33,155,38])\n",
    "aTc_p1_rif_cl = np.array([225,84,51,44,9,153,19,83])\n",
    "aTc_0_LB_cl = np.array([65,70,56,101,60,194,104,73,75])*2.5*10**6\n",
    "aTc_p01_LB_cl = np.array([42,26,45,30,45,58,43,77,35])*2.5*10**6\n",
    "aTc_p1_LB_cl = np.array([31,18,35,17,33,35,26,55])*2.5*10**6"
   ]
  },
  {
   "cell_type": "code",
   "execution_count": 6,
   "metadata": {},
   "outputs": [
    {
     "name": "stdout",
     "output_type": "stream",
     "text": [
      "Optimization terminated successfully.\n",
      "         Current function value: 52.718712\n",
      "         Iterations: 14\n",
      "         Function evaluations: 28\n"
     ]
    },
    {
     "name": "stderr",
     "output_type": "stream",
     "text": [
      "/home/kuhlmanlab/Documents/GitHub/luriadelbruck.py:100: RuntimeWarning: divide by zero encountered in log\n",
      "  self.exog)))\n",
      "/home/kuhlmanlab/anaconda3/lib/python3.6/site-packages/statsmodels/base/model.py:473: HessianInversionWarning: Inverting hessian failed, no bse or cov_params available\n",
      "  'available', HessianInversionWarning)\n"
     ]
    },
    {
     "name": "stdout",
     "output_type": "stream",
     "text": [
      "Optimization terminated successfully.\n",
      "         Current function value: 47.759065\n",
      "         Iterations: 13\n",
      "         Function evaluations: 26\n",
      "Optimization terminated successfully.\n",
      "         Current function value: 46.080538\n",
      "         Iterations: 12\n",
      "         Function evaluations: 24\n",
      "the estimated mutation rate of ME121 Ptet-CH lacI RBS pTKIP-tetR with 2mM iptg and 0 ng/mL aTc is 8.48651596966e-08\n",
      "the estimated mutation rate of ME121 Ptet-CH lacI RBS pTKIP-tetR with 2mM iptg and .01 ng/mL aTc is 1.28512412269e-07\n",
      "the estimated mutation rate of ME121 Ptet-CH lacI RBS pTKIP-tetR with 2mM iptg and .1 ng/mL aTc is 1.41143683936e-07\n"
     ]
    }
   ],
   "source": [
    "sample1_inference_cl =ldb.SarkarMaSandri(aTc_0_rif_cl, aTc_0_LB_cl)\n",
    "sample2_inference_cl = ldb.SarkarMaSandri(aTc_p01_rif_cl, aTc_p01_LB_cl)\n",
    "sample3_inference_cl =ldb.SarkarMaSandri(aTc_p1_rif_cl, aTc_p1_LB_cl)\n",
    "results1_cl = sample1_inference_cl.fit()\n",
    "results2_cl = sample2_inference_cl.fit()\n",
    "results3_cl = sample3_inference_cl.fit()\n",
    "print('the estimated mutation rate of ME121 Ptet-CH lacI RBS pTKIP-tetR with 2mM iptg and 0 ng/mL aTc is', results1_cl.params[0])\n",
    "print('the estimated mutation rate of ME121 Ptet-CH lacI RBS pTKIP-tetR with 2mM iptg and .01 ng/mL aTc is', results2_cl.params[0])\n",
    "print('the estimated mutation rate of ME121 Ptet-CH lacI RBS pTKIP-tetR with 2mM iptg and .1 ng/mL aTc is', results3_cl.params[0])"
   ]
  },
  {
   "cell_type": "markdown",
   "metadata": {},
   "source": [
    "This is probably within error from when we included the seeming outlier and the contaminated colonies in the analysis. They won't be removed from the analysis for now, although it makes little difference."
   ]
  },
  {
   "cell_type": "code",
   "execution_count": null,
   "metadata": {
    "collapsed": true
   },
   "outputs": [],
   "source": []
  }
 ],
 "metadata": {
  "kernelspec": {
   "display_name": "Python 3",
   "language": "python",
   "name": "python3"
  },
  "language_info": {
   "codemirror_mode": {
    "name": "ipython",
    "version": 3
   },
   "file_extension": ".py",
   "mimetype": "text/x-python",
   "name": "python",
   "nbconvert_exporter": "python",
   "pygments_lexer": "ipython3",
   "version": "3.6.2"
  }
 },
 "nbformat": 4,
 "nbformat_minor": 1
}
