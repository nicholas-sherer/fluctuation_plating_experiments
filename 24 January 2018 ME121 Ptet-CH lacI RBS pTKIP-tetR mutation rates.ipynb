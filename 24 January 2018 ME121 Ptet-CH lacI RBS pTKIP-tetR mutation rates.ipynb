{
 "cells": [
  {
   "cell_type": "code",
   "execution_count": 1,
   "metadata": {},
   "outputs": [
    {
     "name": "stdout",
     "output_type": "stream",
     "text": [
      "/home/kuhlmanlab/Documents/GitHub\n"
     ]
    }
   ],
   "source": [
    "cd /home/kuhlmanlab/Documents/GitHub/"
   ]
  },
  {
   "cell_type": "code",
   "execution_count": 2,
   "metadata": {
    "collapsed": true
   },
   "outputs": [],
   "source": [
    "import luriadelbruck as ldb\n",
    "import numpy as np"
   ]
  },
  {
   "cell_type": "markdown",
   "metadata": {},
   "source": [
    "This experiment used ME121 Ptet-mCherry::mutH (lacI RBS) pTKIP-Ptet-tetR. All cultures were in supplemented M9 (elez et al.) and had 2 mM iptg. There were 3 different concentrations of aTc: .25, .5, and 1 ng/mL. There were 10 replicates for each condition."
   ]
  },
  {
   "cell_type": "code",
   "execution_count": 3,
   "metadata": {
    "collapsed": true
   },
   "outputs": [],
   "source": [
    "aTc_p25_rif = np.array([129,98,152,80,91,36,408,104,99,191])\n",
    "aTc_p5_rif = np.array([25,44,41,15,97,29,39,70,20,47])\n",
    "aTc_1_rif = np.array([12,10,7,11,12,23,13,23,11,13])\n",
    "aTc_p25_LB = np.array([97,59,64,96,68,93,72,74,117,71])*2.5*10**6\n",
    "aTc_p5_LB = np.array([46,29,49,96,108,57,39,50,59,86])*2.5*10**6\n",
    "aTc_1_LB = np.array([116,64,63,70,90,65,86,94,4,80])*2.5*10**6"
   ]
  },
  {
   "cell_type": "code",
   "execution_count": 4,
   "metadata": {},
   "outputs": [
    {
     "name": "stdout",
     "output_type": "stream",
     "text": [
      "Optimization terminated successfully.\n",
      "         Current function value: 57.893159\n",
      "         Iterations: 15\n",
      "         Function evaluations: 30\n"
     ]
    },
    {
     "name": "stderr",
     "output_type": "stream",
     "text": [
      "/home/kuhlmanlab/Documents/GitHub/luriadelbruck.py:100: RuntimeWarning: divide by zero encountered in log\n",
      "  self.exog)))\n",
      "/home/kuhlmanlab/anaconda3/lib/python3.6/site-packages/statsmodels/base/model.py:473: HessianInversionWarning: Inverting hessian failed, no bse or cov_params available\n",
      "  'available', HessianInversionWarning)\n"
     ]
    },
    {
     "name": "stdout",
     "output_type": "stream",
     "text": [
      "Optimization terminated successfully.\n",
      "         Current function value: 48.103038\n",
      "         Iterations: 15\n",
      "         Function evaluations: 30\n",
      "Optimization terminated successfully.\n",
      "         Current function value: 38.624120\n",
      "         Iterations: 15\n",
      "         Function evaluations: 30\n",
      "the estimated mutation rate of ME121 Ptet-CH lacI RBS pTKIP-tetR with 2mM iptg and .25 ng/mL aTc is 1.1967530681e-07\n",
      "the estimated mutation rate of ME121 Ptet-CH lacI RBS pTKIP-tetR with 2mM iptg and .5 ng/mL aTc is 6.62118612232e-08\n",
      "the estimated mutation rate of ME121 Ptet-CH lacI RBS pTKIP-tetR with 2mM iptg and 1 ng/mL aTc is 2.73367704141e-08\n"
     ]
    }
   ],
   "source": [
    "sample1_inference =ldb.SarkarMaSandri(aTc_p25_rif, aTc_p25_LB)\n",
    "sample2_inference =ldb.SarkarMaSandri(aTc_p5_rif, aTc_p5_LB)\n",
    "sample3_inference =ldb.SarkarMaSandri(aTc_1_rif, aTc_1_LB)\n",
    "results1 = sample1_inference.fit()\n",
    "results2 = sample2_inference.fit()\n",
    "results3 = sample3_inference.fit()\n",
    "print('the estimated mutation rate of ME121 Ptet-CH lacI RBS pTKIP-tetR with 2mM iptg and .25 ng/mL aTc is', results1.params[0])\n",
    "print('the estimated mutation rate of ME121 Ptet-CH lacI RBS pTKIP-tetR with 2mM iptg and .5 ng/mL aTc is', results2.params[0])\n",
    "print('the estimated mutation rate of ME121 Ptet-CH lacI RBS pTKIP-tetR with 2mM iptg and 1 ng/mL aTc is', results3.params[0])"
   ]
  },
  {
   "cell_type": "markdown",
   "metadata": {
    "collapsed": true
   },
   "source": [
    "The 6th colony of .25 ng/mL aTc is an obvious low outlier for # of mutants (something that should be rare under a luria delbruck process) and the 9th colony of 1 ng/mL aTc has an LB colony count several standard deviations off. If I remove these from the analysis."
   ]
  },
  {
   "cell_type": "code",
   "execution_count": 5,
   "metadata": {
    "collapsed": true
   },
   "outputs": [],
   "source": [
    "aTc_p25_rif_cl = np.array([129,98,152,80,91,408,104,99,191])\n",
    "aTc_1_rif_cl = np.array([12,10,7,11,12,23,13,23,13])\n",
    "aTc_p25_LB_cl = np.array([97,59,64,96,68,72,74,117,71])*2.5*10**6\n",
    "aTc_1_LB_cl = np.array([116,64,63,70,90,65,86,94,80])*2.5*10**6"
   ]
  },
  {
   "cell_type": "code",
   "execution_count": 6,
   "metadata": {},
   "outputs": [
    {
     "name": "stdout",
     "output_type": "stream",
     "text": [
      "Optimization terminated successfully.\n",
      "         Current function value: 51.351362\n",
      "         Iterations: 15\n",
      "         Function evaluations: 30\n",
      "Optimization terminated successfully.\n",
      "         Current function value: 32.375746\n",
      "         Iterations: 15\n",
      "         Function evaluations: 30\n",
      "the estimated mutation rate of ME121 Ptet-CH lacI RBS pTKIP-tetR with 2mM iptg and .25 ng/mL aTc is 1.42868269836e-07\n",
      "the estimated mutation rate of ME121 Ptet-CH lacI RBS pTKIP-tetR with 2mM iptg and 1 ng/mL aTc is 2.64513649294e-08\n"
     ]
    },
    {
     "name": "stderr",
     "output_type": "stream",
     "text": [
      "/home/kuhlmanlab/Documents/GitHub/luriadelbruck.py:100: RuntimeWarning: divide by zero encountered in log\n",
      "  self.exog)))\n",
      "/home/kuhlmanlab/anaconda3/lib/python3.6/site-packages/statsmodels/base/model.py:473: HessianInversionWarning: Inverting hessian failed, no bse or cov_params available\n",
      "  'available', HessianInversionWarning)\n"
     ]
    }
   ],
   "source": [
    "sample1_inference_cl =ldb.SarkarMaSandri(aTc_p25_rif_cl, aTc_p25_LB_cl)\n",
    "sample3_inference_cl =ldb.SarkarMaSandri(aTc_1_rif_cl, aTc_1_LB_cl)\n",
    "results1_cl = sample1_inference_cl.fit()\n",
    "results3_cl = sample3_inference_cl.fit()\n",
    "print('the estimated mutation rate of ME121 Ptet-CH lacI RBS pTKIP-tetR with 2mM iptg and .25 ng/mL aTc is', results1_cl.params[0])\n",
    "print('the estimated mutation rate of ME121 Ptet-CH lacI RBS pTKIP-tetR with 2mM iptg and 1 ng/mL aTc is', results3_cl.params[0])"
   ]
  },
  {
   "cell_type": "markdown",
   "metadata": {},
   "source": [
    "This is probably within error from when we included the seeming outliers in the analysis. They won't be removed from the analysis for now, although it makes little difference."
   ]
  },
  {
   "cell_type": "code",
   "execution_count": null,
   "metadata": {
    "collapsed": true
   },
   "outputs": [],
   "source": []
  }
 ],
 "metadata": {
  "kernelspec": {
   "display_name": "Python 3",
   "language": "python",
   "name": "python3"
  },
  "language_info": {
   "codemirror_mode": {
    "name": "ipython",
    "version": 3
   },
   "file_extension": ".py",
   "mimetype": "text/x-python",
   "name": "python",
   "nbconvert_exporter": "python",
   "pygments_lexer": "ipython3",
   "version": "3.6.2"
  }
 },
 "nbformat": 4,
 "nbformat_minor": 1
}
