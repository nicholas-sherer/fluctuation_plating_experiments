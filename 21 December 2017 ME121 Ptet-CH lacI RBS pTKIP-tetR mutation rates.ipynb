{
 "cells": [
  {
   "cell_type": "code",
   "execution_count": 1,
   "metadata": {},
   "outputs": [
    {
     "name": "stdout",
     "output_type": "stream",
     "text": [
      "/home/kuhlmanlab/Documents/GitHub\n"
     ]
    }
   ],
   "source": [
    "cd /home/kuhlmanlab/Documents/GitHub/"
   ]
  },
  {
   "cell_type": "code",
   "execution_count": 2,
   "metadata": {
    "collapsed": true
   },
   "outputs": [],
   "source": [
    "import luriadelbruck as ldb\n",
    "import numpy as np"
   ]
  },
  {
   "cell_type": "markdown",
   "metadata": {},
   "source": [
    "This experiment used ME121 Ptet-mCherry::mutH (lacI RBS) pTKIP-Ptet-tetR. All cultures were in supplemented M9 (elez et al.) and had 2 mM iptg. There were 3 different concentrations of aTc: .01, .25, and .5 ng/mL. There were 10 replicates for each condition. Colonies 6 and 7 of .01 ng/mL aTc had either errors in dilution or bad contamination so I'm replacing their colony counts with the mean of the other colonies of that condition."
   ]
  },
  {
   "cell_type": "code",
   "execution_count": 3,
   "metadata": {},
   "outputs": [
    {
     "data": {
      "text/plain": [
       "39.75"
      ]
     },
     "execution_count": 3,
     "metadata": {},
     "output_type": "execute_result"
    }
   ],
   "source": [
    "np.mean([48,37,44,27,39,26,55,42])"
   ]
  },
  {
   "cell_type": "code",
   "execution_count": 4,
   "metadata": {
    "collapsed": true
   },
   "outputs": [],
   "source": [
    "aTc_p01_rif = np.array([61,72,72,94,47,103,197,42,111,70])\n",
    "aTc_p25_rif = np.array([194,62,6,32,37,35,12,27,34,37])\n",
    "aTc_p50_rif = np.array([88,54,49,83,79,41,35,132,73,254])\n",
    "aTc_p01_LB = np.array([48,37,44,27,39,40,40,26,55,42])*2.5*10**6\n",
    "aTc_p25_LB = np.array([45,43,17,22,26,27,29,43,44,24])*2.5*10**6\n",
    "aTc_p50_LB = np.array([46,71,50,53,77,55,50,72,112,68])*2.5*10**6"
   ]
  },
  {
   "cell_type": "code",
   "execution_count": 5,
   "metadata": {},
   "outputs": [
    {
     "name": "stdout",
     "output_type": "stream",
     "text": [
      "Optimization terminated successfully.\n",
      "         Current function value: 52.114747\n",
      "         Iterations: 13\n",
      "         Function evaluations: 26\n"
     ]
    },
    {
     "name": "stderr",
     "output_type": "stream",
     "text": [
      "/home/kuhlmanlab/Documents/GitHub/luriadelbruck.py:100: RuntimeWarning: divide by zero encountered in log\n",
      "  self.exog)))\n",
      "/home/kuhlmanlab/anaconda3/lib/python3.6/site-packages/statsmodels/base/model.py:473: HessianInversionWarning: Inverting hessian failed, no bse or cov_params available\n",
      "  'available', HessianInversionWarning)\n"
     ]
    },
    {
     "name": "stdout",
     "output_type": "stream",
     "text": [
      "Optimization terminated successfully.\n",
      "         Current function value: 49.012208\n",
      "         Iterations: 15\n",
      "         Function evaluations: 30\n",
      "Optimization terminated successfully.\n",
      "         Current function value: 53.488899\n",
      "         Iterations: 14\n",
      "         Function evaluations: 28\n",
      "the estimated mutation rate of ME121 Ptet-CH lacI RBS pTKIP-tetR with 2mM iptg and .01 ng/mL aTc is 1.99185859739e-07\n",
      "the estimated mutation rate of ME121 Ptet-CH lacI RBS pTKIP-tetR with 2mM iptg and .25 ng/mL aTc is 1.07899216208e-07\n",
      "the estimated mutation rate of ME121 Ptet-CH lacI RBS pTKIP-tetR with 2mM iptg and .5 ng/mL aTc is 1.0733256819e-07\n"
     ]
    }
   ],
   "source": [
    "sample1_inference =ldb.SarkarMaSandri(aTc_p01_rif, aTc_p01_LB)\n",
    "sample2_inference =ldb.SarkarMaSandri(aTc_p25_rif, aTc_p25_LB)\n",
    "sample3_inference =ldb.SarkarMaSandri(aTc_p50_rif, aTc_p50_LB)\n",
    "results1 = sample1_inference.fit()\n",
    "results2 = sample2_inference.fit()\n",
    "results3 = sample3_inference.fit()\n",
    "print('the estimated mutation rate of ME121 Ptet-CH lacI RBS pTKIP-tetR with 2mM iptg and .01 ng/mL aTc is', results1.params[0])\n",
    "print('the estimated mutation rate of ME121 Ptet-CH lacI RBS pTKIP-tetR with 2mM iptg and .25 ng/mL aTc is', results2.params[0])\n",
    "print('the estimated mutation rate of ME121 Ptet-CH lacI RBS pTKIP-tetR with 2mM iptg and .5 ng/mL aTc is', results3.params[0])"
   ]
  },
  {
   "cell_type": "markdown",
   "metadata": {
    "collapsed": true
   },
   "source": [
    "The 3rd, 4th, 6th, and 7th colonies of .01 ng/mL aTc and the  2nd and 3rd colonies of .50 aTc have either waterspots or contamination. Removing these we get."
   ]
  },
  {
   "cell_type": "code",
   "execution_count": 6,
   "metadata": {
    "collapsed": true
   },
   "outputs": [],
   "source": [
    "aTc_p01_rif_cl = np.array([61,72,47,42,111,70])\n",
    "aTc_p50_rif_cl = np.array([88,83,79,41,35,132,73,254])\n",
    "aTc_p01_LB_cl = np.array([48,37,39,26,55,42])*2.5*10**6\n",
    "aTc_p50_LB_cl = np.array([46,53,77,55,50,72,112,68])*2.5*10**6"
   ]
  },
  {
   "cell_type": "code",
   "execution_count": 7,
   "metadata": {},
   "outputs": [
    {
     "name": "stdout",
     "output_type": "stream",
     "text": [
      "Optimization terminated successfully.\n",
      "         Current function value: 29.638041\n",
      "         Iterations: 15\n",
      "         Function evaluations: 30\n"
     ]
    },
    {
     "name": "stderr",
     "output_type": "stream",
     "text": [
      "/home/kuhlmanlab/Documents/GitHub/luriadelbruck.py:100: RuntimeWarning: divide by zero encountered in log\n",
      "  self.exog)))\n",
      "/home/kuhlmanlab/anaconda3/lib/python3.6/site-packages/statsmodels/base/model.py:473: HessianInversionWarning: Inverting hessian failed, no bse or cov_params available\n",
      "  'available', HessianInversionWarning)\n"
     ]
    },
    {
     "name": "stdout",
     "output_type": "stream",
     "text": [
      "Optimization terminated successfully.\n",
      "         Current function value: 44.090038\n",
      "         Iterations: 14\n",
      "         Function evaluations: 28\n",
      "the estimated mutation rate of ME121 Ptet-CH lacI RBS pTKIP-tetR with 2mM iptg and .01 ng/mL aTc is 1.68911221805e-07\n",
      "the estimated mutation rate of ME121 Ptet-CH lacI RBS pTKIP-tetR with 2mM iptg and .50 ng/mL aTc is 1.10084977532e-07\n"
     ]
    }
   ],
   "source": [
    "sample1_inference_cl =ldb.SarkarMaSandri(aTc_p01_rif_cl, aTc_p01_LB_cl)\n",
    "sample3_inference_cl =ldb.SarkarMaSandri(aTc_p50_rif_cl, aTc_p50_LB_cl)\n",
    "results1_cl = sample1_inference_cl.fit()\n",
    "results3_cl = sample3_inference_cl.fit()\n",
    "print('the estimated mutation rate of ME121 Ptet-CH lacI RBS pTKIP-tetR with 2mM iptg and .01 ng/mL aTc is', results1_cl.params[0])\n",
    "print('the estimated mutation rate of ME121 Ptet-CH lacI RBS pTKIP-tetR with 2mM iptg and .50 ng/mL aTc is', results3_cl.params[0])"
   ]
  },
  {
   "cell_type": "markdown",
   "metadata": {},
   "source": [
    "This is probably within error from when we included the contaminated colonies in the analysis."
   ]
  },
  {
   "cell_type": "markdown",
   "metadata": {},
   "source": [
    "There is a possible outlier in the .25 aTc condition. The 17 LB count, 6 rif colony count (culture # 13). If we remove this from the analysis does it make much difference?"
   ]
  },
  {
   "cell_type": "code",
   "execution_count": 8,
   "metadata": {
    "collapsed": true
   },
   "outputs": [],
   "source": [
    "aTc_p25_rif_cl = np.array([194,62,32,37,35,12,27,34,37])\n",
    "aTc_p25_LB_cl = np.array([45,43,22,26,27,29,43,44,24])*2.5*10**6"
   ]
  },
  {
   "cell_type": "code",
   "execution_count": 9,
   "metadata": {},
   "outputs": [
    {
     "name": "stdout",
     "output_type": "stream",
     "text": [
      "Optimization terminated successfully.\n",
      "         Current function value: 43.545729\n",
      "         Iterations: 14\n",
      "         Function evaluations: 28\n",
      "the estimated mutation rate of ME121 Ptet-CH lacI RBS pTKIP-tetR with 2mM iptg and .25 ng/mL aTc is 1.24953931626e-07\n"
     ]
    },
    {
     "name": "stderr",
     "output_type": "stream",
     "text": [
      "/home/kuhlmanlab/Documents/GitHub/luriadelbruck.py:100: RuntimeWarning: divide by zero encountered in log\n",
      "  self.exog)))\n",
      "/home/kuhlmanlab/anaconda3/lib/python3.6/site-packages/statsmodels/base/model.py:473: HessianInversionWarning: Inverting hessian failed, no bse or cov_params available\n",
      "  'available', HessianInversionWarning)\n"
     ]
    }
   ],
   "source": [
    "sample2_inference_cl =ldb.SarkarMaSandri(aTc_p25_rif_cl, aTc_p25_LB_cl)\n",
    "results2_cl = sample2_inference_cl.fit()\n",
    "print('the estimated mutation rate of ME121 Ptet-CH lacI RBS pTKIP-tetR with 2mM iptg and .25 ng/mL aTc is', results2_cl.params[0])"
   ]
  },
  {
   "cell_type": "markdown",
   "metadata": {},
   "source": [
    "It's almost certainly within statistical error. And it's probably just a tail of the real distribution not a true outlier. It will be left in for the final analysis."
   ]
  },
  {
   "cell_type": "code",
   "execution_count": null,
   "metadata": {
    "collapsed": true
   },
   "outputs": [],
   "source": []
  }
 ],
 "metadata": {
  "kernelspec": {
   "display_name": "Python 3",
   "language": "python",
   "name": "python3"
  },
  "language_info": {
   "codemirror_mode": {
    "name": "ipython",
    "version": 3
   },
   "file_extension": ".py",
   "mimetype": "text/x-python",
   "name": "python",
   "nbconvert_exporter": "python",
   "pygments_lexer": "ipython3",
   "version": "3.6.2"
  }
 },
 "nbformat": 4,
 "nbformat_minor": 1
}
