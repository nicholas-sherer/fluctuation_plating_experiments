{
 "cells": [
  {
   "cell_type": "code",
   "execution_count": 1,
   "metadata": {},
   "outputs": [
    {
     "name": "stdout",
     "output_type": "stream",
     "text": [
      "/home/kuhlmanlab/Documents/GitHub\n"
     ]
    }
   ],
   "source": [
    "cd /home/kuhlmanlab/Documents/GitHub/"
   ]
  },
  {
   "cell_type": "code",
   "execution_count": 2,
   "metadata": {
    "collapsed": true
   },
   "outputs": [],
   "source": [
    "import luriadelbruck as ldb\n",
    "import numpy as np"
   ]
  },
  {
   "cell_type": "markdown",
   "metadata": {},
   "source": [
    "This experiment used ME121 Ptet-mCherry::mutH (lacI RBS) pTKIP-Ptet-tetR. All cultures were in supplemented M9 (elez et al.) and had 2 mM iptg. There were 3 different concentrations of aTc: 2, 4, and 100 ng/mL. There were 10 replicates for each condition."
   ]
  },
  {
   "cell_type": "code",
   "execution_count": 3,
   "metadata": {
    "collapsed": true
   },
   "outputs": [],
   "source": [
    "aTc_2_rif = np.array([3,4,10,4,5,0,1,2,3,7])\n",
    "aTc_4_rif = np.array([0,0,0,0,12,0,0,1,1,1])\n",
    "aTc_100_rif = np.array([1,0,0,0,0,3,0,0,0,0])\n",
    "aTc_2_LB = np.array([133,130,57,172,95,92,108,87,148,100])*2.5*10**6\n",
    "aTc_4_LB = np.array([81,412,95,89,97,83,92,80,49,28])*2.5*10**6\n",
    "aTc_100_LB = np.array([60,33,93,106,40,54,51,54,39,94])*2.5*10**6"
   ]
  },
  {
   "cell_type": "code",
   "execution_count": 4,
   "metadata": {},
   "outputs": [
    {
     "name": "stdout",
     "output_type": "stream",
     "text": [
      "Optimization terminated successfully.\n",
      "         Current function value: 26.700549\n",
      "         Iterations: 15\n",
      "         Function evaluations: 30\n",
      "Optimization terminated successfully.\n",
      "         Current function value: 15.284641\n",
      "         Iterations: 13\n",
      "         Function evaluations: 26\n",
      "Optimization terminated successfully.\n",
      "         Current function value: 8.347786\n",
      "         Iterations: 13\n",
      "         Function evaluations: 26\n",
      "the estimated mutation rate of ME121 Ptet-CH lacI RBS pTKIP-tetR with 2mM iptg and 2 ng/mL aTc is 6.73669612175e-09\n",
      "the estimated mutation rate of ME121 Ptet-CH lacI RBS pTKIP-tetR with 2mM iptg and 4 ng/mL aTc is 1.63967827205e-09\n",
      "the estimated mutation rate of ME121 Ptet-CH lacI RBS pTKIP-tetR with 2mM iptg and 100 ng/mL aTc is 1.39653548502e-09\n"
     ]
    },
    {
     "name": "stderr",
     "output_type": "stream",
     "text": [
      "/home/kuhlmanlab/Documents/GitHub/luriadelbruck.py:100: RuntimeWarning: divide by zero encountered in log\n",
      "  self.exog)))\n",
      "/home/kuhlmanlab/anaconda3/lib/python3.6/site-packages/statsmodels/base/model.py:473: HessianInversionWarning: Inverting hessian failed, no bse or cov_params available\n",
      "  'available', HessianInversionWarning)\n"
     ]
    }
   ],
   "source": [
    "sample1_inference =ldb.SarkarMaSandri(aTc_2_rif, aTc_2_LB)\n",
    "sample2_inference =ldb.SarkarMaSandri(aTc_4_rif, aTc_4_LB)\n",
    "sample3_inference =ldb.SarkarMaSandri(aTc_100_rif, aTc_100_LB)\n",
    "results1 = sample1_inference.fit()\n",
    "results2 = sample2_inference.fit()\n",
    "results3 = sample3_inference.fit()\n",
    "print('the estimated mutation rate of ME121 Ptet-CH lacI RBS pTKIP-tetR with 2mM iptg and 2 ng/mL aTc is', results1.params[0])\n",
    "print('the estimated mutation rate of ME121 Ptet-CH lacI RBS pTKIP-tetR with 2mM iptg and 4 ng/mL aTc is', results2.params[0])\n",
    "print('the estimated mutation rate of ME121 Ptet-CH lacI RBS pTKIP-tetR with 2mM iptg and 100 ng/mL aTc is', results3.params[0])"
   ]
  },
  {
   "cell_type": "markdown",
   "metadata": {
    "collapsed": true
   },
   "source": [
    "The 2nd, 6th, and 10th colony of 4 ng/mL aTc and the  4th colonies of 100 aTc has either waterspots or contamination. Removing these we get."
   ]
  },
  {
   "cell_type": "code",
   "execution_count": 5,
   "metadata": {
    "collapsed": true
   },
   "outputs": [],
   "source": [
    "aTc_4_rif_cl = np.array([0,0,0,12,0,1,1])\n",
    "aTc_100_rif_cl = np.array([1,0,0,0,3,0,0,0,0])\n",
    "aTc_4_LB_cl = np.array([81,95,89,97,92,80,49])*2.5*10**6\n",
    "aTc_100_LB_cl = np.array([60,33,93,40,54,51,54,39,94])*2.5*10**6"
   ]
  },
  {
   "cell_type": "code",
   "execution_count": 6,
   "metadata": {},
   "outputs": [
    {
     "name": "stdout",
     "output_type": "stream",
     "text": [
      "Optimization terminated successfully.\n",
      "         Current function value: 11.481397\n",
      "         Iterations: 12\n",
      "         Function evaluations: 24\n",
      "Optimization terminated successfully.\n",
      "         Current function value: 8.087731\n",
      "         Iterations: 14\n",
      "         Function evaluations: 28\n",
      "the estimated mutation rate of ME121 Ptet-CH lacI RBS pTKIP-tetR with 2mM iptg and 4 ng/mL aTc is 2.49488940248e-09\n",
      "the estimated mutation rate of ME121 Ptet-CH lacI RBS pTKIP-tetR with 2mM iptg and 100 ng/mL aTc is 1.70599395309e-09\n"
     ]
    },
    {
     "name": "stderr",
     "output_type": "stream",
     "text": [
      "/home/kuhlmanlab/Documents/GitHub/luriadelbruck.py:100: RuntimeWarning: divide by zero encountered in log\n",
      "  self.exog)))\n",
      "/home/kuhlmanlab/anaconda3/lib/python3.6/site-packages/statsmodels/base/model.py:473: HessianInversionWarning: Inverting hessian failed, no bse or cov_params available\n",
      "  'available', HessianInversionWarning)\n"
     ]
    }
   ],
   "source": [
    "sample2_inference_cl =ldb.SarkarMaSandri(aTc_4_rif_cl, aTc_4_LB_cl)\n",
    "sample3_inference_cl =ldb.SarkarMaSandri(aTc_100_rif_cl, aTc_100_LB_cl)\n",
    "results2_cl = sample2_inference_cl.fit()\n",
    "results3_cl = sample3_inference_cl.fit()\n",
    "print('the estimated mutation rate of ME121 Ptet-CH lacI RBS pTKIP-tetR with 2mM iptg and 4 ng/mL aTc is', results2_cl.params[0])\n",
    "print('the estimated mutation rate of ME121 Ptet-CH lacI RBS pTKIP-tetR with 2mM iptg and 100 ng/mL aTc is', results3_cl.params[0])"
   ]
  },
  {
   "cell_type": "markdown",
   "metadata": {},
   "source": [
    "This is basically unchanged from when we included the contaminated colonies in the analysis."
   ]
  },
  {
   "cell_type": "code",
   "execution_count": null,
   "metadata": {
    "collapsed": true
   },
   "outputs": [],
   "source": []
  }
 ],
 "metadata": {
  "kernelspec": {
   "display_name": "Python 3",
   "language": "python",
   "name": "python3"
  },
  "language_info": {
   "codemirror_mode": {
    "name": "ipython",
    "version": 3
   },
   "file_extension": ".py",
   "mimetype": "text/x-python",
   "name": "python",
   "nbconvert_exporter": "python",
   "pygments_lexer": "ipython3",
   "version": "3.6.2"
  }
 },
 "nbformat": 4,
 "nbformat_minor": 1
}
