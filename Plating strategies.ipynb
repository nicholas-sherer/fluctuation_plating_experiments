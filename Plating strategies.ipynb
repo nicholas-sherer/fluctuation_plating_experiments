{
 "cells": [
  {
   "cell_type": "code",
   "execution_count": 1,
   "metadata": {
    "collapsed": false
   },
   "outputs": [
    {
     "name": "stdout",
     "output_type": "stream",
     "text": [
      "/home/kuhlmanlab/Documents/GitHub\n"
     ]
    }
   ],
   "source": [
    "cd /home/kuhlmanlab/Documents/GitHub/"
   ]
  },
  {
   "cell_type": "code",
   "execution_count": 2,
   "metadata": {
    "collapsed": true
   },
   "outputs": [],
   "source": [
    "import luriadelbruck as ldb\n",
    "import matplotlib.pyplot as plt\n",
    "import numpy as np\n",
    "%matplotlib inline"
   ]
  },
  {
   "cell_type": "code",
   "execution_count": 10,
   "metadata": {
    "collapsed": true
   },
   "outputs": [],
   "source": [
    "def simulatedExperiment(mu, N, plating_dilution=10**6, size=20, N_init=10):\n",
    "    sampler = ldb.luriaDelbruck()\n",
    "    mutant_sample = sampler.rvs(mu, N, size=size)\n",
    "    N_start = np.random.poisson(N_init,size=size)\n",
    "    N_finish = N_start*N/N_init\n",
    "    N_sample = np.random.poisson(N_finish/plating_dilution)*plating_dilution\n",
    "    return mutant_sample, N_sample\n",
    "\n",
    "def perfectExperiment(mu, N, size=20):\n",
    "    sampler = ldb.luriaDelbruck()\n",
    "    mutant_sample = sampler.rvs(mu, N, size=size)\n",
    "    N_sample = N * np.ones(size)\n",
    "    return mutant_sample, N_sample\n",
    "\n",
    "def mutationRateEstimate(mutant_sample, N_sample):\n",
    "    maximum_likelihood_estimator = ldb.SarkarMaSandri(mutant_sample, N_sample)\n",
    "    return maximum_likelihood_estimator.fit(full_output=False,disp=0,skip_hessian=True).params[0]\n",
    "\n",
    "def simulatedError(mu, N, plating_dilution, size, reps):\n",
    "    results = []\n",
    "    for i in range(reps):\n",
    "        mutant_sample, N_sample = simulatedExperiment(mu, N, plating_dilution, size)\n",
    "        results.append(mutationRateEstimate(mutant_sample, N_sample))\n",
    "    return np.array(results)\n",
    "\n",
    "def simulatedPerfectError(mu, N, size, reps):\n",
    "    results = []\n",
    "    for i in range(reps):\n",
    "        mutant_sample, N_sample = perfectExperiment(mu, N, size)\n",
    "        results.append(mutationRateEstimate(mutant_sample, N_sample))\n",
    "    return np.array(results)"
   ]
  },
  {
   "cell_type": "code",
   "execution_count": 23,
   "metadata": {
    "collapsed": false
   },
   "outputs": [],
   "source": [
    "mu_true = 10**-8\n",
    "N_true = 10**8\n",
    "plating_dilution = 10**6\n",
    "experiment_size= 20\n",
    "repetitions = 10\n",
    "results = simulatedError(mu_true, N_true, plating_dilution, experiment_size, repetitions)\n",
    "perfect_results = simulatedPerfectError(mu_true, N_true, experiment_size, repetitions)"
   ]
  },
  {
   "cell_type": "code",
   "execution_count": 24,
   "metadata": {
    "collapsed": false
   },
   "outputs": [
    {
     "name": "stdout",
     "output_type": "stream",
     "text": [
      "[  1.48157893e-08   1.32646725e-08   1.02729958e-08   1.19567281e-08\n",
      "   9.38005990e-09   8.38508119e-09   1.17487208e-08   1.66045311e-08\n",
      "   9.52258710e-09   6.20836731e-09]\n",
      "The true mutation rate is 1e-08\n",
      "The mean estimated mutation rate is 1.1215953312e-08\n",
      "The standard deviation of the estimated mutation rate is 2.95368152634e-09\n",
      "The lowest estimate of the mutation rate is 6.20836730864e-09\n",
      "The highest estimate of the mutation rate is 1.66045310845e-08\n"
     ]
    }
   ],
   "source": [
    "print(results)\n",
    "print('The true mutation rate is', mu_true)\n",
    "print('The mean estimated mutation rate is',np.mean(results))\n",
    "print('The standard deviation of the estimated mutation rate is',np.std(results))\n",
    "print('The lowest estimate of the mutation rate is',np.min(results))\n",
    "print('The highest estimate of the mutation rate is',np.max(results))"
   ]
  },
  {
   "cell_type": "code",
   "execution_count": 25,
   "metadata": {
    "collapsed": false
   },
   "outputs": [
    {
     "name": "stdout",
     "output_type": "stream",
     "text": [
      "[  1.07623601e-08   8.39816954e-09   1.49139439e-08   1.01082041e-08\n",
      "   1.15264470e-08   1.13873370e-08   4.82066875e-09   6.36275345e-09\n",
      "   1.09448995e-08   9.06861165e-09]\n",
      "The true mutation rate is 1e-08\n",
      "The mean estimated mutation rate is 9.82933950796e-09\n",
      "The standard deviation of the estimated mutation rate is 2.70341368276e-09\n",
      "The lowest estimate of the mutation rate is 4.82066874913e-09\n",
      "The highest estimate of the mutation rate is 1.49139439426e-08\n"
     ]
    }
   ],
   "source": [
    "print(perfect_results)\n",
    "print('The true mutation rate is', mu_true)\n",
    "print('The mean estimated mutation rate is',np.mean(perfect_results))\n",
    "print('The standard deviation of the estimated mutation rate is',np.std(perfect_results))\n",
    "print('The lowest estimate of the mutation rate is',np.min(perfect_results))\n",
    "print('The highest estimate of the mutation rate is',np.max(perfect_results))"
   ]
  },
  {
   "cell_type": "code",
   "execution_count": null,
   "metadata": {
    "collapsed": true
   },
   "outputs": [],
   "source": []
  }
 ],
 "metadata": {
  "kernelspec": {
   "display_name": "Python [py36]",
   "language": "python",
   "name": "Python [py36]"
  },
  "language_info": {
   "codemirror_mode": {
    "name": "ipython",
    "version": 3
   },
   "file_extension": ".py",
   "mimetype": "text/x-python",
   "name": "python",
   "nbconvert_exporter": "python",
   "pygments_lexer": "ipython3",
   "version": "3.6.1"
  }
 },
 "nbformat": 4,
 "nbformat_minor": 0
}
