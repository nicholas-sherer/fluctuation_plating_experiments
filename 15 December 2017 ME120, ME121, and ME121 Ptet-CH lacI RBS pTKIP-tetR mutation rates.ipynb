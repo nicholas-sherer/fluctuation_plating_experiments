{
 "cells": [
  {
   "cell_type": "code",
   "execution_count": 1,
   "metadata": {},
   "outputs": [
    {
     "name": "stdout",
     "output_type": "stream",
     "text": [
      "/home/kuhlmanlab/Documents/GitHub\n"
     ]
    }
   ],
   "source": [
    "cd /home/kuhlmanlab/Documents/GitHub/"
   ]
  },
  {
   "cell_type": "code",
   "execution_count": 2,
   "metadata": {
    "collapsed": true
   },
   "outputs": [],
   "source": [
    "import luriadelbruck as ldb\n",
    "import numpy as np"
   ]
  },
  {
   "cell_type": "markdown",
   "metadata": {},
   "source": [
    "This experiment used 3 different strains of e. coli: ME120, ME121, and ME121 Ptet-mCherry::mutH (lacI RBS) pTKIP-Ptet-tetR. All cultures were in supplemented M9 (elez et al.) and had 2 mM iptg. There were 10 replicates for each condition."
   ]
  },
  {
   "cell_type": "code",
   "execution_count": 3,
   "metadata": {
    "collapsed": true
   },
   "outputs": [],
   "source": [
    "ME120_rif = np.array([0,1,0,20,6,2,0,0,0,2])\n",
    "ME121_rif = np.array([184,209,190,116,91,136,207,331,134,98])\n",
    "ME121_CH_rif = np.array([39,40,161,37,107,56,107,32,38,129])\n",
    "ME120_LB = np.array([95,64,74,54,167,81,69,91,66,57])#*2.5*10**6\n",
    "ME121_LB = np.array([30,33,30,40,19,24,62,17,11,17])#*2.5*10**6\n",
    "ME121_CH_LB = np.array([37,49,42,39,11,37,46,49,118,28])#*2.5*10**6"
   ]
  },
  {
   "cell_type": "code",
   "execution_count": 4,
   "metadata": {},
   "outputs": [
    {
     "name": "stdout",
     "output_type": "stream",
     "text": [
      "Optimization terminated successfully.\n",
      "         Current function value: 20.686743\n",
      "         Iterations: 14\n",
      "         Function evaluations: 28\n"
     ]
    },
    {
     "name": "stderr",
     "output_type": "stream",
     "text": [
      "/home/kuhlmanlab/Documents/GitHub/luriadelbruck.py:99: RuntimeWarning: divide by zero encountered in log\n",
      "  self.exog)))\n",
      "/home/kuhlmanlab/anaconda3/lib/python3.6/site-packages/statsmodels/base/model.py:473: HessianInversionWarning: Inverting hessian failed, no bse or cov_params available\n",
      "  'available', HessianInversionWarning)\n"
     ]
    },
    {
     "name": "stdout",
     "output_type": "stream",
     "text": [
      "Optimization terminated successfully.\n",
      "         Current function value: 62.737888\n",
      "         Iterations: 13\n",
      "         Function evaluations: 26\n",
      "Optimization terminated successfully.\n",
      "         Current function value: 56.106799\n",
      "         Iterations: 14\n",
      "         Function evaluations: 28\n",
      "the estimated mutation rate of ME120 with 2mM iptg is 3.54493663373e-09\n",
      "the estimated mutation rate of ME121 with 2mM iptg is 4.11141093489e-07\n",
      "the estimated mutation rate of ME121 Ptet-CH lacI RBS pTKIP-tetR with 2mM iptg is 1.16843871798e-07\n"
     ]
    }
   ],
   "source": [
    "sample1_inference =ldb.SarkarMaSandri(ME120_rif, ME120_LB)\n",
    "sample2_inference =ldb.SarkarMaSandri(ME121_rif, ME121_LB)\n",
    "sample3_inference =ldb.SarkarMaSandri(ME121_CH_rif, ME121_CH_LB)\n",
    "results1 = sample1_inference.fit()\n",
    "results2 = sample2_inference.fit()\n",
    "results3 = sample3_inference.fit()\n",
    "print('the estimated mutation rate of ME120 with 2mM iptg is', results1.params[0])\n",
    "print('the estimated mutation rate of ME121 with 2mM iptg is', results2.params[0])\n",
    "print('the estimated mutation rate of ME121 Ptet-CH lacI RBS pTKIP-tetR with 2mM iptg is', results3.params[0])"
   ]
  },
  {
   "cell_type": "markdown",
   "metadata": {
    "collapsed": true
   },
   "source": [
    "The 10th colony of ME120, the 3rd and 6th colonies of ME121, and the 7th colony of ME121 Ptet-mCherry::mutH (lacI RBS) pTKIP-Ptet-tetR had some contamination on LB. Removing these we get."
   ]
  },
  {
   "cell_type": "code",
   "execution_count": 5,
   "metadata": {
    "collapsed": true
   },
   "outputs": [],
   "source": [
    "ME120_rif_cl = np.array([0,1,0,20,6,2,0,0,0])\n",
    "ME121_rif_cl = np.array([184,209,116,91,207,331,134,98])\n",
    "ME121_CH_rif_cl = np.array([39,40,161,37,107,56,32,38,129])\n",
    "ME120_LB_cl = np.array([95,64,74,54,167,81,69,91,66])*2.5*10**6\n",
    "ME121_LB_cl = np.array([30,33,40,19,62,17,11,17])*2.5*10**6\n",
    "ME121_CH_LB_cl = np.array([37,49,42,39,11,37,49,118,28])*2.5*10**6"
   ]
  },
  {
   "cell_type": "code",
   "execution_count": 6,
   "metadata": {},
   "outputs": [
    {
     "name": "stdout",
     "output_type": "stream",
     "text": [
      "Optimization terminated successfully.\n",
      "         Current function value: 18.175963\n",
      "         Iterations: 13\n",
      "         Function evaluations: 26\n"
     ]
    },
    {
     "name": "stderr",
     "output_type": "stream",
     "text": [
      "/home/kuhlmanlab/Documents/GitHub/luriadelbruck.py:99: RuntimeWarning: divide by zero encountered in log\n",
      "  self.exog)))\n",
      "/home/kuhlmanlab/anaconda3/lib/python3.6/site-packages/statsmodels/base/model.py:473: HessianInversionWarning: Inverting hessian failed, no bse or cov_params available\n",
      "  'available', HessianInversionWarning)\n"
     ]
    },
    {
     "name": "stdout",
     "output_type": "stream",
     "text": [
      "Optimization terminated successfully.\n",
      "         Current function value: 51.205562\n",
      "         Iterations: 12\n",
      "         Function evaluations: 24\n",
      "Optimization terminated successfully.\n",
      "         Current function value: 50.295076\n",
      "         Iterations: 14\n",
      "         Function evaluations: 28\n",
      "the estimated mutation rate of ME120 with 2mM iptg is 3.00182984866e-09\n",
      "the estimated mutation rate of ME121 with 2mM iptg is 3.83705994838e-07\n",
      "the estimated mutation rate of ME121 Ptet-CH lacI RBS pTKIP-tetR with 2mM iptg is 1.10059415487e-07\n"
     ]
    }
   ],
   "source": [
    "sample1_inference_cl =ldb.SarkarMaSandri(ME120_rif_cl, ME120_LB_cl)\n",
    "sample2_inference_cl =ldb.SarkarMaSandri(ME121_rif_cl, ME121_LB_cl)\n",
    "sample3_inference_cl =ldb.SarkarMaSandri(ME121_CH_rif_cl, ME121_CH_LB_cl)\n",
    "results1_cl = sample1_inference_cl.fit()\n",
    "results2_cl = sample2_inference_cl.fit()\n",
    "results3_cl = sample3_inference_cl.fit()\n",
    "print('the estimated mutation rate of ME120 with 2mM iptg is', results1_cl.params[0])\n",
    "print('the estimated mutation rate of ME121 with 2mM iptg is', results2_cl.params[0])\n",
    "print('the estimated mutation rate of ME121 Ptet-CH lacI RBS pTKIP-tetR with 2mM iptg is', results3_cl.params[0])"
   ]
  },
  {
   "cell_type": "markdown",
   "metadata": {},
   "source": [
    "This is basically unchanged from when we included the contaminated colonies in the analysis."
   ]
  },
  {
   "cell_type": "code",
   "execution_count": 4,
   "metadata": {
    "collapsed": true
   },
   "outputs": [],
   "source": [
    "import os\n",
    "\n",
    "os.chdir('/home/kuhlmanlab/Documents/GitHub/Fluctuation Plating Database/')\n",
    "\n",
    "import insertingintodatabase as idb\n",
    "\n",
    "date = '2017-12-15'\n",
    "medium = 'M9_elez'\n",
    "protocol = 'Sherer 2017'\n",
    "iptg = 2000\n",
    "aTc = 0\n",
    "lb_contam_120 = {9: 9999}\n",
    "lb_contam_121 = {2: 9999, 5: 9999}\n",
    "lb_contam_001 = {6: 9999}\n",
    "\n",
    "val1 = idb.format_for_db(date, 'ME120', medium, iptg, aTc, protocol, ME120_LB, ME120_rif, lb_contam=lb_contam_120)\n",
    "val2 = idb.format_for_db(date, 'ME121', medium, iptg, aTc, protocol, ME121_LB, ME121_rif, lb_contam=lb_contam_121)\n",
    "val3 = idb.format_for_db(date, 'NS 001', medium, iptg, aTc, protocol, ME121_CH_LB, ME121_CH_rif, lb_contam=lb_contam_001)\n",
    "\n",
    "idb.insert_to_db(val1,'fluctuation_plating_data.db')\n",
    "idb.insert_to_db(val2,'fluctuation_plating_data.db')\n",
    "idb.insert_to_db(val3,'fluctuation_plating_data.db')"
   ]
  },
  {
   "cell_type": "code",
   "execution_count": null,
   "metadata": {
    "collapsed": true
   },
   "outputs": [],
   "source": []
  }
 ],
 "metadata": {
  "kernelspec": {
   "display_name": "Python 3",
   "language": "python",
   "name": "python3"
  },
  "language_info": {
   "codemirror_mode": {
    "name": "ipython",
    "version": 3
   },
   "file_extension": ".py",
   "mimetype": "text/x-python",
   "name": "python",
   "nbconvert_exporter": "python",
   "pygments_lexer": "ipython3",
   "version": "3.6.2"
  }
 },
 "nbformat": 4,
 "nbformat_minor": 1
}
