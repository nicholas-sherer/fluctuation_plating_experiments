{
 "cells": [
  {
   "cell_type": "code",
   "execution_count": 1,
   "metadata": {},
   "outputs": [
    {
     "name": "stdout",
     "output_type": "stream",
     "text": [
      "/home/kuhlmanlab/Documents/GitHub\n"
     ]
    }
   ],
   "source": [
    "cd /home/kuhlmanlab/Documents/GitHub/"
   ]
  },
  {
   "cell_type": "code",
   "execution_count": 2,
   "metadata": {
    "collapsed": true
   },
   "outputs": [],
   "source": [
    "import luriadelbruck as ldb\n",
    "import numpy as np"
   ]
  },
  {
   "cell_type": "markdown",
   "metadata": {},
   "source": [
    "This experiment used NS001. All cultures were grown at 37 C in the platereader in supplemented M9 (elez et al.) with spectinomycin. There were 9 replicates for each condition. The 5 conditions differed by inducer concentration. The inducer concentrations in (aTc ng/mL, IPTG micromolar) were (0, 0); (0, 2000); (1, 2000); (2, 2000); and (100, 2000).\n",
    "\n",
    "The last rifampicin plate in the (0, 0) condition was too dense to count (>>1000 colonies) so I've put 9999 in for its colony count. I ran the code below more than once and the exact number only makes about a 1% difference to the inferred value. This is way lower than the rest of the error going into this so I don't worry about it."
   ]
  },
  {
   "cell_type": "code",
   "execution_count": 3,
   "metadata": {
    "collapsed": true
   },
   "outputs": [],
   "source": [
    "aTc0_IPTG0_rif = np.array([627,509,403,461,776,1251,854,582,9999])\n",
    "aTc0_IPTG2000_rif = np.array([87,101,25,64,26,61,14,46,60])\n",
    "aTc1_IPTG2000_rif = np.array([6,2,0,0,0,0,2,2,2])\n",
    "aTc2_IPTG2000_rif = np.array([3,12,4,0,9,2,9,5,4])\n",
    "aTc100_IPTG2000_rif = np.array([2,1,4,4,1,0,2,1,0])\n",
    "\n",
    "aTc0_IPTG0_lb = np.array([156,195,149,148,135,235,206,90,188])\n",
    "aTc0_IPTG2000_lb = np.array([147,138,196,147,233,227,210,141,203])\n",
    "aTc1_IPTG2000_lb = np.array([113,183,194,182,202,236,142,210,125])\n",
    "aTc2_IPTG2000_lb = np.array([233,198,264,262,236,249,169,197,219])\n",
    "aTc100_IPTG2000_lb = np.array([107,158,224,182,89,137,64,226,97])\n",
    "\n",
    "LB_plating_dilution_factor = 5*10**6"
   ]
  },
  {
   "cell_type": "code",
   "execution_count": 4,
   "metadata": {},
   "outputs": [
    {
     "name": "stdout",
     "output_type": "stream",
     "text": [
      "Optimization terminated successfully.\n",
      "         Current function value: 70.909353\n",
      "         Iterations: 13\n",
      "         Function evaluations: 26\n"
     ]
    },
    {
     "name": "stderr",
     "output_type": "stream",
     "text": [
      "/home/kuhlmanlab/Documents/GitHub/luriadelbruck.py:100: RuntimeWarning: divide by zero encountered in log\n",
      "  self.exog)))\n",
      "/home/kuhlmanlab/anaconda3/lib/python3.6/site-packages/statsmodels/base/model.py:473: HessianInversionWarning: Inverting hessian failed, no bse or cov_params available\n",
      "  'available', HessianInversionWarning)\n"
     ]
    },
    {
     "name": "stdout",
     "output_type": "stream",
     "text": [
      "Optimization terminated successfully.\n",
      "         Current function value: 44.510411\n",
      "         Iterations: 13\n",
      "         Function evaluations: 26\n",
      "Optimization terminated successfully.\n",
      "         Current function value: 16.608138\n",
      "         Iterations: 15\n",
      "         Function evaluations: 30\n",
      "Optimization terminated successfully.\n",
      "         Current function value: 26.075991\n",
      "         Iterations: 16\n",
      "         Function evaluations: 32\n",
      "Optimization terminated successfully.\n",
      "         Current function value: 18.257876\n",
      "         Iterations: 16\n",
      "         Function evaluations: 32\n",
      "the estimated mutation rate of ME121 Ptet-CH lacI RBS pTKIP-tetR with 0 microM iptg and 0 ng/mL aTc is 1.26847584484e-07\n",
      "the estimated mutation rate of ME121 Ptet-CH lacI RBS pTKIP-tetR with 2000 microM iptg and 0 ng/mL aTc is 1.33584245843e-08\n",
      "the estimated mutation rate of ME121 Ptet-CH lacI RBS pTKIP-tetR with 2000 microM iptg and 1 ng/mL aTc is 9.22969967796e-10\n",
      "the estimated mutation rate of ME121 Ptet-CH lacI RBS pTKIP-tetR with 2000 microM iptg and 2 ng/mL aTc is 2.03944406719e-09\n",
      "the estimated mutation rate of ME121 Ptet-CH lacI RBS pTKIP-tetR with 2000 microM iptg and 100 ng/mL aTc is 1.47564865447e-09\n"
     ]
    }
   ],
   "source": [
    "sample1_inference = ldb.SarkarMaSandri(aTc0_IPTG0_rif, aTc0_IPTG0_lb * LB_plating_dilution_factor)\n",
    "sample2_inference = ldb.SarkarMaSandri(aTc0_IPTG2000_rif, aTc0_IPTG2000_lb * LB_plating_dilution_factor)\n",
    "sample3_inference = ldb.SarkarMaSandri(aTc1_IPTG2000_rif, aTc1_IPTG2000_lb * LB_plating_dilution_factor)\n",
    "sample4_inference = ldb.SarkarMaSandri(aTc2_IPTG2000_rif, aTc2_IPTG2000_lb * LB_plating_dilution_factor)\n",
    "sample5_inference = ldb.SarkarMaSandri(aTc100_IPTG2000_rif, aTc100_IPTG2000_lb * LB_plating_dilution_factor)\n",
    "results1 = sample1_inference.fit()\n",
    "results2 = sample2_inference.fit()\n",
    "results3 = sample3_inference.fit()\n",
    "results4 = sample4_inference.fit()\n",
    "results5 = sample5_inference.fit()\n",
    "print('the estimated mutation rate of ME121 Ptet-CH lacI RBS pTKIP-tetR with 0 microM iptg and 0 ng/mL aTc is', results1.params[0])\n",
    "print('the estimated mutation rate of ME121 Ptet-CH lacI RBS pTKIP-tetR with 2000 microM iptg and 0 ng/mL aTc is', results2.params[0])\n",
    "print('the estimated mutation rate of ME121 Ptet-CH lacI RBS pTKIP-tetR with 2000 microM iptg and 1 ng/mL aTc is', results3.params[0])\n",
    "print('the estimated mutation rate of ME121 Ptet-CH lacI RBS pTKIP-tetR with 2000 microM iptg and 2 ng/mL aTc is', results4.params[0])\n",
    "print('the estimated mutation rate of ME121 Ptet-CH lacI RBS pTKIP-tetR with 2000 microM iptg and 100 ng/mL aTc is', results5.params[0])"
   ]
  },
  {
   "cell_type": "markdown",
   "metadata": {},
   "source": [
    "The code below should only be run once otherwise we'll accidentally add duplicate data to the SQL database. Ideally, I'd put guards in the database itself (say a hash made from the data entered that causes the table to reject any previously entered data), but that currently looks to be more work than it's worth, so I've just wrapped the whole cell in triple quotes to make it a string so that it won't accidentally be run again."
   ]
  },
  {
   "cell_type": "code",
   "execution_count": 5,
   "metadata": {
    "collapsed": true
   },
   "outputs": [],
   "source": [
    "'''import os\n",
    "\n",
    "os.chdir('/home/kuhlmanlab/Documents/GitHub/Fluctuation Plating Database/')\n",
    "\n",
    "import insertingintodatabase as idb\n",
    "\n",
    "date = '2018-05-09'\n",
    "strain = 'NS 001'\n",
    "medium = 'M9_elez'\n",
    "protocol = 'Sherer platereader May 8 2018'\n",
    "\n",
    "val1 = idb.format_for_db(date, strain, medium, 0, 0, protocol, aTc0_IPTG0_lb, aTc0_IPTG0_rif)\n",
    "val2 = idb.format_for_db(date, strain, medium, 2000, 0, protocol, aTc0_IPTG2000_lb, aTc0_IPTG2000_rif)\n",
    "val3 = idb.format_for_db(date, strain, medium, 2000, 1, protocol, aTc1_IPTG2000_lb, aTc1_IPTG2000_rif)\n",
    "val4 = idb.format_for_db(date, strain, medium, 2000, 2, protocol, aTc2_IPTG2000_lb, aTc2_IPTG2000_rif)\n",
    "val5 = idb.format_for_db(date, strain, medium, 2000, 100, protocol, aTc100_IPTG2000_lb, aTc100_IPTG2000_rif)\n",
    "\n",
    "idb.insert_to_db(val1,'fluctuation_plating_data.db')\n",
    "idb.insert_to_db(val2,'fluctuation_plating_data.db')\n",
    "idb.insert_to_db(val3,'fluctuation_plating_data.db')\n",
    "idb.insert_to_db(val4,'fluctuation_plating_data.db')\n",
    "idb.insert_to_db(val5,'fluctuation_plating_data.db')'''"
   ]
  },
  {
   "cell_type": "code",
   "execution_count": null,
   "metadata": {
    "collapsed": true
   },
   "outputs": [],
   "source": []
  }
 ],
 "metadata": {
  "kernelspec": {
   "display_name": "Python 3",
   "language": "python",
   "name": "python3"
  },
  "language_info": {
   "codemirror_mode": {
    "name": "ipython",
    "version": 3
   },
   "file_extension": ".py",
   "mimetype": "text/x-python",
   "name": "python",
   "nbconvert_exporter": "python",
   "pygments_lexer": "ipython3",
   "version": "3.6.2"
  }
 },
 "nbformat": 4,
 "nbformat_minor": 1
}
