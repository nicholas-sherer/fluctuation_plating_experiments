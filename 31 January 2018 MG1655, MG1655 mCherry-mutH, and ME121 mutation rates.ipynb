{
 "cells": [
  {
   "cell_type": "code",
   "execution_count": 1,
   "metadata": {},
   "outputs": [
    {
     "name": "stdout",
     "output_type": "stream",
     "text": [
      "/home/kuhlmanlab/Documents/GitHub\n"
     ]
    }
   ],
   "source": [
    "cd /home/kuhlmanlab/Documents/GitHub/"
   ]
  },
  {
   "cell_type": "code",
   "execution_count": 2,
   "metadata": {
    "collapsed": true
   },
   "outputs": [],
   "source": [
    "import luriadelbruck as ldb\n",
    "import numpy as np"
   ]
  },
  {
   "cell_type": "markdown",
   "metadata": {},
   "source": [
    "This experiment used MG1655, MG1655 delta motA mCherry::mutH, and ME121. All cultures were in supplemented M9 (elez et al.). ME121 was grown with 2 mM iptg."
   ]
  },
  {
   "cell_type": "code",
   "execution_count": 3,
   "metadata": {
    "collapsed": true
   },
   "outputs": [],
   "source": [
    "WT_rif = np.array([2,1,1,2,10,2,5,3,2,4])\n",
    "WT_CH_rif = np.array([4,0,1,3,8,0,35,0,4,6])\n",
    "ME121_rif = np.array([561,302,904,301,279,527,253,178,288,403])\n",
    "WT_LB = np.array([84,37,100,54,64,105,69,87,98,35])*2.5*10**6\n",
    "WT_CH_LB = np.array([48,103,73,58,74,63,64,58,69,78])*2.5*10**6\n",
    "ME121_LB = np.array([35,42,49,28,82,70,24,26,59,29])*2.5*10**6"
   ]
  },
  {
   "cell_type": "code",
   "execution_count": 4,
   "metadata": {},
   "outputs": [
    {
     "name": "stdout",
     "output_type": "stream",
     "text": [
      "Optimization terminated successfully.\n",
      "         Current function value: 25.132317\n",
      "         Iterations: 16\n",
      "         Function evaluations: 32\n",
      "Optimization terminated successfully.\n",
      "         Current function value: 27.969637\n",
      "         Iterations: 12\n",
      "         Function evaluations: 24\n"
     ]
    },
    {
     "name": "stderr",
     "output_type": "stream",
     "text": [
      "/home/kuhlmanlab/Documents/GitHub/luriadelbruck.py:100: RuntimeWarning: divide by zero encountered in log\n",
      "  self.exog)))\n",
      "/home/kuhlmanlab/anaconda3/lib/python3.6/site-packages/statsmodels/base/model.py:473: HessianInversionWarning: Inverting hessian failed, no bse or cov_params available\n",
      "  'available', HessianInversionWarning)\n"
     ]
    },
    {
     "name": "stdout",
     "output_type": "stream",
     "text": [
      "Optimization terminated successfully.\n",
      "         Current function value: 70.779759\n",
      "         Iterations: 12\n",
      "         Function evaluations: 24\n",
      "the estimated mutation rate of MG1655 is 9.43044252145e-09\n",
      "the estimated mutation rate of MG1655 delta motA mCherry::mutH is 8.18224133972e-09\n",
      "the estimated mutation rate of ME121 with 2mM iptg is 4.90687179484e-07\n"
     ]
    }
   ],
   "source": [
    "sample1_inference =ldb.SarkarMaSandri(WT_rif, WT_LB)\n",
    "sample2_inference =ldb.SarkarMaSandri(WT_CH_rif, WT_CH_LB)\n",
    "sample3_inference =ldb.SarkarMaSandri(ME121_rif, ME121_LB)\n",
    "results1 = sample1_inference.fit()\n",
    "results2 = sample2_inference.fit()\n",
    "results3 = sample3_inference.fit()\n",
    "print('the estimated mutation rate of MG1655 is', results1.params[0])\n",
    "print('the estimated mutation rate of MG1655 delta motA mCherry::mutH is', results2.params[0])\n",
    "print('the estimated mutation rate of ME121 with 2mM iptg is', results3.params[0])"
   ]
  },
  {
   "cell_type": "code",
   "execution_count": null,
   "metadata": {
    "collapsed": true
   },
   "outputs": [],
   "source": []
  }
 ],
 "metadata": {
  "kernelspec": {
   "display_name": "Python 3",
   "language": "python",
   "name": "python3"
  },
  "language_info": {
   "codemirror_mode": {
    "name": "ipython",
    "version": 3
   },
   "file_extension": ".py",
   "mimetype": "text/x-python",
   "name": "python",
   "nbconvert_exporter": "python",
   "pygments_lexer": "ipython3",
   "version": "3.6.2"
  }
 },
 "nbformat": 4,
 "nbformat_minor": 1
}
