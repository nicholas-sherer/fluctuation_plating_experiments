{
 "cells": [
  {
   "cell_type": "code",
   "execution_count": 1,
   "metadata": {},
   "outputs": [
    {
     "name": "stdout",
     "output_type": "stream",
     "text": [
      "/home/kuhlmanlab/Documents/GitHub\n"
     ]
    }
   ],
   "source": [
    "cd /home/kuhlmanlab/Documents/GitHub/"
   ]
  },
  {
   "cell_type": "code",
   "execution_count": 2,
   "metadata": {
    "collapsed": true
   },
   "outputs": [],
   "source": [
    "import luriadelbruck as ldb\n",
    "import matplotlib.pyplot as plt\n",
    "import numpy as np\n",
    "%matplotlib inline"
   ]
  },
  {
   "cell_type": "markdown",
   "metadata": {},
   "source": [
    "This experiment used 4 different inducer combinations to induce different amounts of mutL and mutH. 100 ng/ml aTc, 2 mM IPTG, and 10 micromolar cAMP to induce both MutL and Muth; 2 mM IPTG and 10 micromolar cAMP to induce only mutL; 100 ng/ml aTc to induce only mutH; and no inducer."
   ]
  },
  {
   "cell_type": "code",
   "execution_count": 3,
   "metadata": {
    "collapsed": true
   },
   "outputs": [],
   "source": [
    "rif_LandH_induction = np.array([0,0,0,0,4,0,0,0])\n",
    "rif_L_induction = np.array([140,28,141,74,56,37,94,199])\n",
    "rif_H_induction = np.array([44,145,68,236,105,86,240,67])\n",
    "rif_no_induction = np.array([397,295,975,772,376,412,297,391])\n",
    "LB_LandH_induction = np.array([12,23,21,13,27,17,24,6])*2.5*10**6\n",
    "LB_L_induction = np.array([70,27,27,30,82,25,36,89])*2.5*10**6\n",
    "LB_H_induction = np.array([14,22,127,27,18,26,35,35])*2.5*10**6\n",
    "LB_no_induction = np.array([112,74,106,83,78,105,65,95])*2.5*10**6"
   ]
  },
  {
   "cell_type": "code",
   "execution_count": 4,
   "metadata": {},
   "outputs": [
    {
     "name": "stdout",
     "output_type": "stream",
     "text": [
      "Optimization terminated successfully.\n",
      "         Current function value: 6.023294\n",
      "         Iterations: 10\n",
      "         Function evaluations: 20\n"
     ]
    },
    {
     "name": "stderr",
     "output_type": "stream",
     "text": [
      "/home/kuhlmanlab/Documents/GitHub/luriadelbruck.py:100: RuntimeWarning: divide by zero encountered in log\n",
      "  self.exog)))\n",
      "/home/kuhlmanlab/anaconda3/lib/python3.6/site-packages/statsmodels/base/model.py:473: HessianInversionWarning: Inverting hessian failed, no bse or cov_params available\n",
      "  'available', HessianInversionWarning)\n"
     ]
    },
    {
     "name": "stdout",
     "output_type": "stream",
     "text": [
      "Optimization terminated successfully.\n",
      "         Current function value: 47.289475\n",
      "         Iterations: 13\n",
      "         Function evaluations: 26\n",
      "Optimization terminated successfully.\n",
      "         Current function value: 53.553549\n",
      "         Iterations: 13\n",
      "         Function evaluations: 26\n",
      "Optimization terminated successfully.\n",
      "         Current function value: 54.027635\n",
      "         Iterations: 14\n",
      "         Function evaluations: 28\n",
      "the estimated mutation rate of ME121 Ptet-CH lacI RBS pTKIP-tetR with mutH and mutL induced is 3.09649853466e-09\n",
      "the estimated mutation rate of ME121 Ptet-CH lacI RBS pTKIP-tetR with mutL induced is 1.27403599626e-07\n",
      "the estimated mutation rate of ME121 Ptet-CH lacI RBS pTKIP-tetR with mutH induced is 1.60603119138e-07\n",
      "the estimated mutation rate of ME121 Ptet-CH lacI RBS pTKIP-tetR with neither induced is 3.49495353013e-07\n"
     ]
    }
   ],
   "source": [
    "sample1_inference =ldb.SarkarMaSandri(rif_LandH_induction, LB_LandH_induction)\n",
    "sample2_inference =ldb.SarkarMaSandri(rif_L_induction, LB_L_induction)\n",
    "sample3_inference =ldb.SarkarMaSandri(rif_H_induction, LB_H_induction)\n",
    "sample4_inference =ldb.SarkarMaSandri(rif_no_induction, LB_no_induction)\n",
    "results1 = sample1_inference.fit()\n",
    "results2 = sample2_inference.fit()\n",
    "results3 = sample3_inference.fit()\n",
    "results4 = sample4_inference.fit()\n",
    "print('the estimated mutation rate of ME121 Ptet-CH lacI RBS pTKIP-tetR with mutH and mutL induced is', results1.params[0])\n",
    "print('the estimated mutation rate of ME121 Ptet-CH lacI RBS pTKIP-tetR with mutL induced is', results2.params[0])\n",
    "print('the estimated mutation rate of ME121 Ptet-CH lacI RBS pTKIP-tetR with mutH induced is', results3.params[0])\n",
    "print('the estimated mutation rate of ME121 Ptet-CH lacI RBS pTKIP-tetR with neither induced is', results4.params[0])"
   ]
  },
  {
   "cell_type": "code",
   "execution_count": 5,
   "metadata": {},
   "outputs": [
    {
     "name": "stdout",
     "output_type": "stream",
     "text": [
      "The fold decrease in mutation rate after inducing both mutL and mutH is 112.867921332\n",
      "The fold decrease from inducing only mutL is 2.74321411671\n",
      "The fold decrease from inducing only mutH is 2.17614299703\n",
      "The fold decrease from inducing both mutL and mutH compared to just mutL is 41.1444081759\n",
      "The fold decrease from inducing both mutL and mutH compared to just mutH is 51.8660407361\n"
     ]
    }
   ],
   "source": [
    "print('The fold decrease in mutation rate after inducing both mutL and mutH is', results4.params[0]/results1.params[0])\n",
    "print('The fold decrease from inducing only mutL is', results4.params[0]/results2.params[0])\n",
    "print('The fold decrease from inducing only mutH is', results4.params[0]/results3.params[0])\n",
    "print('The fold decrease from inducing both mutL and mutH compared to just mutL is', results2.params[0]/results1.params[0])\n",
    "print('The fold decrease from inducing both mutL and mutH compared to just mutH is', results3.params[0]/results1.params[0])"
   ]
  },
  {
   "cell_type": "markdown",
   "metadata": {},
   "source": [
    "Elez and Matic just used the mean number of rifampicin colonies per cells in the culture as a measurement of the mutation rate. To compare to their work more directly, we can see the difference between only no induction and inducing both L and H, which is roughly analagous to the strains they used in the original \"Seeing mutations in live cells paper\"."
   ]
  },
  {
   "cell_type": "code",
   "execution_count": 6,
   "metadata": {},
   "outputs": [
    {
     "name": "stdout",
     "output_type": "stream",
     "text": [
      "With no induction the mean number of mutants per cell was 2.17298949788e-06\n",
      "With full induction the mean number of mutants per cell was 7.40740740741e-09\n",
      "The fold difference between these two cases is 293.353582214\n"
     ]
    }
   ],
   "source": [
    "print('With no induction the mean number of mutants per cell was', np.mean(rif_no_induction / LB_no_induction))\n",
    "print('With full induction the mean number of mutants per cell was', np.mean(rif_LandH_induction / LB_LandH_induction))\n",
    "print('The fold difference between these two cases is', np.mean(rif_no_induction / LB_no_induction)/np.mean(rif_LandH_induction / LB_LandH_induction))"
   ]
  }
 ],
 "metadata": {
  "kernelspec": {
   "display_name": "Python 3",
   "language": "python",
   "name": "python3"
  },
  "language_info": {
   "codemirror_mode": {
    "name": "ipython",
    "version": 3
   },
   "file_extension": ".py",
   "mimetype": "text/x-python",
   "name": "python",
   "nbconvert_exporter": "python",
   "pygments_lexer": "ipython3",
   "version": "3.6.2"
  }
 },
 "nbformat": 4,
 "nbformat_minor": 1
}
