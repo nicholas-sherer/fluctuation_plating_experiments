{
 "cells": [
  {
   "cell_type": "code",
   "execution_count": 1,
   "metadata": {},
   "outputs": [
    {
     "name": "stdout",
     "output_type": "stream",
     "text": [
      "/home/kuhlmanlab/Documents/GitHub\n"
     ]
    }
   ],
   "source": [
    "cd /home/kuhlmanlab/Documents/GitHub/"
   ]
  },
  {
   "cell_type": "code",
   "execution_count": 2,
   "metadata": {
    "collapsed": true
   },
   "outputs": [],
   "source": [
    "import luriadelbruck as ldb\n",
    "import numpy as np"
   ]
  },
  {
   "cell_type": "markdown",
   "metadata": {},
   "source": [
    "This experiment used ME121 Ptet-mCherry::mutH (lacI RBS) pTKIP-Ptet-tetR. All cultures were in supplemented M9 (elez et al.) and had 100 ng/ml aTc. There were 3 different concentrations of IPTG: .01, .1, and 1 micromolar. There were 10 replicates for each condition."
   ]
  },
  {
   "cell_type": "code",
   "execution_count": 3,
   "metadata": {
    "collapsed": true
   },
   "outputs": [],
   "source": [
    "iptg_p01_rif = np.array([22,63,97,39,35,115,34,70,34,113])\n",
    "iptg_p1_rif = np.array([167,106,105,193,153,175,178,93,135,210])\n",
    "iptg_1_rif = np.array([13,12,11,31,3,13,31,32,16,12])\n",
    "iptg_p01_LB = np.array([13,15,5,7,9,14,8,9,11,10])*2.5*10**6\n",
    "iptg_p1_LB = np.array([43,44,57,35,55,39,39,41,62,27])*2.5*10**6\n",
    "iptg_1_LB = np.array([8,11,13,12,10,9,16,3,5,8])*2.5*10**6"
   ]
  },
  {
   "cell_type": "code",
   "execution_count": 4,
   "metadata": {},
   "outputs": [
    {
     "name": "stdout",
     "output_type": "stream",
     "text": [
      "Optimization terminated successfully.\n",
      "         Current function value: 50.908464\n",
      "         Iterations: 11\n",
      "         Function evaluations: 22\n"
     ]
    },
    {
     "name": "stderr",
     "output_type": "stream",
     "text": [
      "/home/kuhlmanlab/Documents/GitHub/luriadelbruck.py:99: RuntimeWarning: divide by zero encountered in log\n",
      "  self.exog)))\n",
      "/home/kuhlmanlab/anaconda3/lib/python3.6/site-packages/statsmodels/base/model.py:473: HessianInversionWarning: Inverting hessian failed, no bse or cov_params available\n",
      "  'available', HessianInversionWarning)\n"
     ]
    },
    {
     "name": "stdout",
     "output_type": "stream",
     "text": [
      "Optimization terminated successfully.\n",
      "         Current function value: 56.677102\n",
      "         Iterations: 14\n",
      "         Function evaluations: 28\n",
      "Optimization terminated successfully.\n",
      "         Current function value: 40.262845\n",
      "         Iterations: 15\n",
      "         Function evaluations: 30\n",
      "the estimated mutation rate of ME121 Ptet-CH lacI RBS pTKIP-tetR with .01 microM iptg and 100 ng/mL aTc is 5.31136613833e-07\n",
      "the estimated mutation rate of ME121 Ptet-CH lacI RBS pTKIP-tetR with .1 microM iptg and 100 ng/mL aTc is 3.01664808355e-07\n",
      "the estimated mutation rate of ME121 Ptet-CH lacI RBS pTKIP-tetR with 1 microM iptg and 100 ng/mL aTc is 2.24322165031e-07\n"
     ]
    }
   ],
   "source": [
    "sample1_inference =ldb.SarkarMaSandri(iptg_p01_rif, iptg_p01_LB)\n",
    "sample2_inference =ldb.SarkarMaSandri(iptg_p1_rif, iptg_p1_LB)\n",
    "sample3_inference =ldb.SarkarMaSandri(iptg_1_rif, iptg_1_LB)\n",
    "results1 = sample1_inference.fit()\n",
    "results2 = sample2_inference.fit()\n",
    "results3 = sample3_inference.fit()\n",
    "print('the estimated mutation rate of ME121 Ptet-CH lacI RBS pTKIP-tetR with .01 microM iptg and 100 ng/mL aTc is', results1.params[0])\n",
    "print('the estimated mutation rate of ME121 Ptet-CH lacI RBS pTKIP-tetR with .1 microM iptg and 100 ng/mL aTc is', results2.params[0])\n",
    "print('the estimated mutation rate of ME121 Ptet-CH lacI RBS pTKIP-tetR with 1 microM iptg and 100 ng/mL aTc is', results3.params[0])"
   ]
  },
  {
   "cell_type": "markdown",
   "metadata": {
    "collapsed": true
   },
   "source": [
    "There was 1 contaminant colony on colony 3 of LB for .01 micromolar iptg. Without this colony, the estimated mutation rate is"
   ]
  },
  {
   "cell_type": "code",
   "execution_count": 5,
   "metadata": {
    "collapsed": true
   },
   "outputs": [],
   "source": [
    "iptg_p01_rif_cl = np.array([22,63,39,35,115,34,70,34,113])\n",
    "iptg_p01_LB_cl = np.array([13,15,7,9,14,8,9,11,10])*2.5*10**6"
   ]
  },
  {
   "cell_type": "code",
   "execution_count": 6,
   "metadata": {},
   "outputs": [
    {
     "name": "stdout",
     "output_type": "stream",
     "text": [
      "Optimization terminated successfully.\n",
      "         Current function value: 44.582484\n",
      "         Iterations: 13\n",
      "         Function evaluations: 26\n",
      "the estimated mutation rate of ME121 Ptet-CH lacI RBS pTKIP-tetR with .01 microM iptg and 100 ng/mL aTc is 4.95736576867e-07\n"
     ]
    },
    {
     "name": "stderr",
     "output_type": "stream",
     "text": [
      "/home/kuhlmanlab/Documents/GitHub/luriadelbruck.py:99: RuntimeWarning: divide by zero encountered in log\n",
      "  self.exog)))\n",
      "/home/kuhlmanlab/anaconda3/lib/python3.6/site-packages/statsmodels/base/model.py:473: HessianInversionWarning: Inverting hessian failed, no bse or cov_params available\n",
      "  'available', HessianInversionWarning)\n"
     ]
    }
   ],
   "source": [
    "sample1_inference_cl =ldb.SarkarMaSandri(iptg_p01_rif_cl, iptg_p01_LB_cl)\n",
    "results1_cl = sample1_inference_cl.fit()\n",
    "print('the estimated mutation rate of ME121 Ptet-CH lacI RBS pTKIP-tetR with .01 microM iptg and 100 ng/mL aTc is', results1_cl.params[0])"
   ]
  },
  {
   "cell_type": "markdown",
   "metadata": {},
   "source": [
    "This is not appreciably different. ~10% is certainly well within noise."
   ]
  },
  {
   "cell_type": "code",
   "execution_count": null,
   "metadata": {
    "collapsed": true
   },
   "outputs": [],
   "source": []
  }
 ],
 "metadata": {
  "kernelspec": {
   "display_name": "Python 3",
   "language": "python",
   "name": "python3"
  },
  "language_info": {
   "codemirror_mode": {
    "name": "ipython",
    "version": 3
   },
   "file_extension": ".py",
   "mimetype": "text/x-python",
   "name": "python",
   "nbconvert_exporter": "python",
   "pygments_lexer": "ipython3",
   "version": "3.6.2"
  }
 },
 "nbformat": 4,
 "nbformat_minor": 1
}
