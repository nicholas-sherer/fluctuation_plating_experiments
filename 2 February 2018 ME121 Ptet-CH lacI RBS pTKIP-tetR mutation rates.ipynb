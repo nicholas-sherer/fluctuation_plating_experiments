{
 "cells": [
  {
   "cell_type": "code",
   "execution_count": 1,
   "metadata": {},
   "outputs": [
    {
     "name": "stdout",
     "output_type": "stream",
     "text": [
      "/home/kuhlmanlab/Documents/GitHub\n"
     ]
    }
   ],
   "source": [
    "cd /home/kuhlmanlab/Documents/GitHub/"
   ]
  },
  {
   "cell_type": "code",
   "execution_count": 2,
   "metadata": {
    "collapsed": true
   },
   "outputs": [],
   "source": [
    "import luriadelbruck as ldb\n",
    "import numpy as np"
   ]
  },
  {
   "cell_type": "markdown",
   "metadata": {},
   "source": [
    "This experiment used ME121 Ptet-mCherry::mutH (lacI RBS) pTKIP-Ptet-tetR. All cultures were in supplemented M9 (elez et al.) and had 100 ng/ml aTc. There were 3 different concentrations of IPTG: 0, 5, and 10 micromolar. There were 10 replicates for each condition."
   ]
  },
  {
   "cell_type": "code",
   "execution_count": 3,
   "metadata": {
    "collapsed": true
   },
   "outputs": [],
   "source": [
    "iptg_0_rif = np.array([335,118,150,291,225,231,109,112,288,149])\n",
    "iptg_5_rif = np.array([1,0,2,0,1,6,1,3,0,2])\n",
    "iptg_10_rif = np.array([3,0,0,0,1,0,1,0,1,2])\n",
    "iptg_0_LB = np.array([103,42,31,59,42,85,43,33,66,28])*2.5*10**6\n",
    "iptg_5_LB = np.array([33,39,38,55,23,35,23,20,27,47])*2.5*10**6\n",
    "iptg_10_LB = np.array([93,94,67,116,43,32,35,12,14,14])*2.5*10**6"
   ]
  },
  {
   "cell_type": "code",
   "execution_count": 4,
   "metadata": {},
   "outputs": [
    {
     "name": "stdout",
     "output_type": "stream",
     "text": [
      "Optimization terminated successfully.\n",
      "         Current function value: 63.841657\n",
      "         Iterations: 13\n",
      "         Function evaluations: 26\n",
      "Optimization terminated successfully.\n",
      "         Current function value: 19.236670\n",
      "         Iterations: 15\n",
      "         Function evaluations: 30\n",
      "Optimization terminated successfully.\n",
      "         Current function value: 15.519614\n",
      "         Iterations: 15\n",
      "         Function evaluations: 30\n",
      "the estimated mutation rate of ME121 Ptet-CH lacI RBS pTKIP-tetR with 0 microM iptg and 100 ng/mL aTc is 2.51213951733e-07\n",
      "the estimated mutation rate of ME121 Ptet-CH lacI RBS pTKIP-tetR with 5 microM iptg and 100 ng/mL aTc is 1.10055534896e-08\n",
      "the estimated mutation rate of ME121 Ptet-CH lacI RBS pTKIP-tetR with 10 microM iptg and 100 ng/mL aTc is 4.37253711349e-09\n"
     ]
    },
    {
     "name": "stderr",
     "output_type": "stream",
     "text": [
      "/home/kuhlmanlab/Documents/GitHub/luriadelbruck.py:100: RuntimeWarning: divide by zero encountered in log\n",
      "  self.exog)))\n",
      "/home/kuhlmanlab/anaconda3/lib/python3.6/site-packages/statsmodels/base/model.py:473: HessianInversionWarning: Inverting hessian failed, no bse or cov_params available\n",
      "  'available', HessianInversionWarning)\n"
     ]
    }
   ],
   "source": [
    "sample1_inference =ldb.SarkarMaSandri(iptg_0_rif, iptg_0_LB)\n",
    "sample2_inference =ldb.SarkarMaSandri(iptg_5_rif, iptg_5_LB)\n",
    "sample3_inference =ldb.SarkarMaSandri(iptg_10_rif, iptg_10_LB)\n",
    "results1 = sample1_inference.fit()\n",
    "results2 = sample2_inference.fit()\n",
    "results3 = sample3_inference.fit()\n",
    "print('the estimated mutation rate of ME121 Ptet-CH lacI RBS pTKIP-tetR with 0 microM iptg and 100 ng/mL aTc is', results1.params[0])\n",
    "print('the estimated mutation rate of ME121 Ptet-CH lacI RBS pTKIP-tetR with 5 microM iptg and 100 ng/mL aTc is', results2.params[0])\n",
    "print('the estimated mutation rate of ME121 Ptet-CH lacI RBS pTKIP-tetR with 10 microM iptg and 100 ng/mL aTc is', results3.params[0])"
   ]
  },
  {
   "cell_type": "code",
   "execution_count": null,
   "metadata": {
    "collapsed": true
   },
   "outputs": [],
   "source": []
  }
 ],
 "metadata": {
  "kernelspec": {
   "display_name": "Python 3",
   "language": "python",
   "name": "python3"
  },
  "language_info": {
   "codemirror_mode": {
    "name": "ipython",
    "version": 3
   },
   "file_extension": ".py",
   "mimetype": "text/x-python",
   "name": "python",
   "nbconvert_exporter": "python",
   "pygments_lexer": "ipython3",
   "version": "3.6.2"
  }
 },
 "nbformat": 4,
 "nbformat_minor": 1
}
