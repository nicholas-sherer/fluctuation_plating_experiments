{
 "cells": [
  {
   "cell_type": "code",
   "execution_count": 1,
   "metadata": {},
   "outputs": [
    {
     "name": "stdout",
     "output_type": "stream",
     "text": [
      "/home/kuhlmanlab/Documents/GitHub\n"
     ]
    }
   ],
   "source": [
    "cd /home/kuhlmanlab/Documents/GitHub/"
   ]
  },
  {
   "cell_type": "code",
   "execution_count": 2,
   "metadata": {
    "collapsed": true
   },
   "outputs": [],
   "source": [
    "import luriadelbruck as ldb\n",
    "import matplotlib.pyplot as plt\n",
    "import numpy as np\n",
    "%matplotlib inline"
   ]
  },
  {
   "cell_type": "markdown",
   "metadata": {},
   "source": [
    "Because the PBS used for the replicate cultures was contaminated, the LB plates don't have any actual counts to use. However, the supplemented M9 + cells used to start the culture was not contaminated so those can be used to estimate the final cell count when combined with the measured ODs at the end. These counts are the 24 hour counts on rifampicin."
   ]
  },
  {
   "cell_type": "code",
   "execution_count": 3,
   "metadata": {},
   "outputs": [
    {
     "name": "stdout",
     "output_type": "stream",
     "text": [
      "there were approximately 1000000000.0 cells per OD 1.0 per ml\n"
     ]
    }
   ],
   "source": [
    "cells_per_OD_per_ml = (34+46)/2 / (4*10**-7) * 10\n",
    "print('there were approximately', cells_per_OD_per_ml, 'cells per OD 1.0 per ml')"
   ]
  },
  {
   "cell_type": "code",
   "execution_count": 4,
   "metadata": {
    "collapsed": true
   },
   "outputs": [],
   "source": [
    "rif_ME120_low = np.array([0,0,0,10,27])\n",
    "rif_ME120_mid = np.array([45,79,65,87,86])\n",
    "rif_ME120_hig = np.array([2000,441,604,846,603])\n",
    "rif_ME121_low = np.array([6,0,1,0,8])\n",
    "rif_ME121_mid = np.array([102,40,59,35,37])\n",
    "rif_ME121_hig = np.array([869,566,559,199,484])\n",
    "LB_ME120_low = .05*np.ones(5)*.25*cells_per_OD_per_ml\n",
    "LB_ME120_mid = .35*np.ones(5)*.25*cells_per_OD_per_ml\n",
    "LB_ME120_hig = 1.05*np.ones(5)*.25*cells_per_OD_per_ml\n",
    "LB_ME121_low = .015*np.ones(5)*.25*cells_per_OD_per_ml\n",
    "LB_ME121_mid = .17*np.ones(5)*.25*cells_per_OD_per_ml\n",
    "LB_ME121_hig = .73*np.ones(5)*.25*cells_per_OD_per_ml"
   ]
  },
  {
   "cell_type": "code",
   "execution_count": 5,
   "metadata": {},
   "outputs": [
    {
     "name": "stdout",
     "output_type": "stream",
     "text": [
      "Optimization terminated successfully.\n",
      "         Current function value: 13.906166\n",
      "         Iterations: 8\n",
      "         Function evaluations: 16\n",
      "Optimization terminated successfully.\n",
      "         Current function value: 24.356504\n",
      "         Iterations: 15\n",
      "         Function evaluations: 30\n"
     ]
    },
    {
     "name": "stderr",
     "output_type": "stream",
     "text": [
      "/home/kuhlmanlab/anaconda3/lib/python3.6/site-packages/statsmodels/base/model.py:473: HessianInversionWarning: Inverting hessian failed, no bse or cov_params available\n",
      "  'available', HessianInversionWarning)\n",
      "/home/kuhlmanlab/Documents/GitHub/luriadelbruck.py:98: RuntimeWarning: divide by zero encountered in log\n",
      "  self.exog)))\n"
     ]
    },
    {
     "name": "stdout",
     "output_type": "stream",
     "text": [
      "Optimization terminated successfully.\n",
      "         Current function value: 36.469626\n",
      "         Iterations: 14\n",
      "         Function evaluations: 28\n",
      "Optimization terminated successfully.\n",
      "         Current function value: 11.489713\n",
      "         Iterations: 13\n",
      "         Function evaluations: 26\n",
      "Optimization terminated successfully.\n",
      "         Current function value: 23.430386\n",
      "         Iterations: 15\n",
      "         Function evaluations: 30\n",
      "Optimization terminated successfully.\n",
      "         Current function value: 35.605802\n",
      "         Iterations: 14\n",
      "         Function evaluations: 28\n",
      "the estimated mutation rate of ME120 at low OD is 5.7058096296e-08\n",
      "the estimated mutation rate of ME120 at mid OD is 2.26797825872e-07\n",
      "the estimated mutation rate of ME120 at high OD is 4.53704123848e-07\n",
      "the estimated mutation rate of ME121 at low OD is 2.70854716579e-07\n",
      "the estimated mutation rate of ME121 at mid OD is 3.42843940016e-07\n",
      "the estimated mutation rate of ME121 at high OD is 4.18333953402e-07\n"
     ]
    }
   ],
   "source": [
    "sample1_inference =ldb.SarkarMaSandri(rif_ME120_low, LB_ME120_low)\n",
    "sample2_inference =ldb.SarkarMaSandri(rif_ME120_mid, LB_ME120_mid)\n",
    "sample3_inference =ldb.SarkarMaSandri(rif_ME120_hig, LB_ME120_hig)\n",
    "sample4_inference =ldb.SarkarMaSandri(rif_ME121_low, LB_ME121_low)\n",
    "sample5_inference =ldb.SarkarMaSandri(rif_ME121_mid, LB_ME121_mid)\n",
    "sample6_inference =ldb.SarkarMaSandri(rif_ME121_hig, LB_ME121_hig)\n",
    "results1 = sample1_inference.fit()\n",
    "results2 = sample2_inference.fit()\n",
    "results3 = sample3_inference.fit()\n",
    "results4 = sample4_inference.fit()\n",
    "results5 = sample5_inference.fit()\n",
    "results6 = sample6_inference.fit()\n",
    "print('the estimated mutation rate of ME120 at low OD is', results1.params[0])\n",
    "print('the estimated mutation rate of ME120 at mid OD is', results2.params[0])\n",
    "print('the estimated mutation rate of ME120 at high OD is', results3.params[0])\n",
    "print('the estimated mutation rate of ME121 at low OD is', results4.params[0])\n",
    "print('the estimated mutation rate of ME121 at mid OD is', results5.params[0])\n",
    "print('the estimated mutation rate of ME121 at high OD is', results6.params[0])"
   ]
  },
  {
   "cell_type": "code",
   "execution_count": null,
   "metadata": {
    "collapsed": true
   },
   "outputs": [],
   "source": []
  }
 ],
 "metadata": {
  "kernelspec": {
   "display_name": "Python 3",
   "language": "python",
   "name": "python3"
  },
  "language_info": {
   "codemirror_mode": {
    "name": "ipython",
    "version": 3
   },
   "file_extension": ".py",
   "mimetype": "text/x-python",
   "name": "python",
   "nbconvert_exporter": "python",
   "pygments_lexer": "ipython3",
   "version": "3.6.2"
  }
 },
 "nbformat": 4,
 "nbformat_minor": 1
}
