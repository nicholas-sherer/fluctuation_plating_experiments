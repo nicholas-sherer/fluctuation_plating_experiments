{
 "cells": [
  {
   "cell_type": "code",
   "execution_count": 1,
   "metadata": {},
   "outputs": [
    {
     "name": "stdout",
     "output_type": "stream",
     "text": [
      "/home/kuhlmanlab/Documents/GitHub\n"
     ]
    }
   ],
   "source": [
    "cd /home/kuhlmanlab/Documents/GitHub/"
   ]
  },
  {
   "cell_type": "code",
   "execution_count": 2,
   "metadata": {
    "collapsed": true
   },
   "outputs": [],
   "source": [
    "import luriadelbruck as ldb\n",
    "import numpy as np"
   ]
  },
  {
   "cell_type": "markdown",
   "metadata": {},
   "source": [
    "This experiment used 3 different inducer combinations to induce different amounts of mutH. All cultures had 2 mM iptg. The aTc concentrations were 1, 2, and 4 ng/ml respectively. There were 10 replicates for each condition"
   ]
  },
  {
   "cell_type": "code",
   "execution_count": 3,
   "metadata": {
    "collapsed": true
   },
   "outputs": [],
   "source": [
    "aTc1_rif = np.array([0,2,3,3,1,1,12,1,3,0])\n",
    "aTc2_rif = np.array([1,2,1,1,2,0,0,0,1,0])\n",
    "aTc4_rif = np.array([0,0,0,0,0,0,1,0,1,0])\n",
    "aTc1_LB = np.array([62,74,12,49,36,35,41,26,38,31])*2.5*10**6\n",
    "aTc2_LB = np.array([56,82,99,74,63,48,41,20,63,83])*2.5*10**6\n",
    "aTc4_LB = np.array([34,51,31,14,12,46,100,36,37,50])*2.5*10**6 #the one with 100 colonies also had contamination though"
   ]
  },
  {
   "cell_type": "code",
   "execution_count": 4,
   "metadata": {},
   "outputs": [
    {
     "name": "stdout",
     "output_type": "stream",
     "text": [
      "Optimization terminated successfully.\n",
      "         Current function value: 22.960753\n",
      "         Iterations: 16\n",
      "         Function evaluations: 32\n",
      "Optimization terminated successfully.\n",
      "         Current function value: 15.137736\n",
      "         Iterations: 16\n",
      "         Function evaluations: 32\n",
      "Optimization terminated successfully.\n",
      "         Current function value: 6.925907\n",
      "         Iterations: 15\n",
      "         Function evaluations: 30\n",
      "the estimated mutation rate of ME121 Ptet-CH lacI RBS pTKIP-tetR with 2mM iptg and 1 ng/ml aTc is 1.17674314698e-08\n",
      "the estimated mutation rate of ME121 Ptet-CH lacI RBS pTKIP-tetR with 2mM iptg and 2 ng/ml aTc is 4.22530386712e-09\n",
      "the estimated mutation rate of ME121 Ptet-CH lacI RBS pTKIP-tetR with 2mM iptg and 4 ng/ml aTc is 1.94934096281e-09\n"
     ]
    },
    {
     "name": "stderr",
     "output_type": "stream",
     "text": [
      "/home/kuhlmanlab/Documents/GitHub/luriadelbruck.py:100: RuntimeWarning: divide by zero encountered in log\n",
      "  self.exog)))\n",
      "/home/kuhlmanlab/anaconda3/lib/python3.6/site-packages/statsmodels/base/model.py:473: HessianInversionWarning: Inverting hessian failed, no bse or cov_params available\n",
      "  'available', HessianInversionWarning)\n"
     ]
    }
   ],
   "source": [
    "sample1_inference =ldb.SarkarMaSandri(aTc1_rif, aTc1_LB)\n",
    "sample2_inference =ldb.SarkarMaSandri(aTc2_rif, aTc2_LB)\n",
    "sample3_inference =ldb.SarkarMaSandri(aTc4_rif, aTc4_LB)\n",
    "results1 = sample1_inference.fit()\n",
    "results2 = sample2_inference.fit()\n",
    "results3 = sample3_inference.fit()\n",
    "print('the estimated mutation rate of ME121 Ptet-CH lacI RBS pTKIP-tetR with 2mM iptg and 1 ng/ml aTc is', results1.params[0])\n",
    "print('the estimated mutation rate of ME121 Ptet-CH lacI RBS pTKIP-tetR with 2mM iptg and 2 ng/ml aTc is', results2.params[0])\n",
    "print('the estimated mutation rate of ME121 Ptet-CH lacI RBS pTKIP-tetR with 2mM iptg and 4 ng/ml aTc is', results3.params[0])"
   ]
  },
  {
   "cell_type": "markdown",
   "metadata": {
    "collapsed": true
   },
   "source": [
    "There are a few obvious outliers in the dataset for the LB counts (< 20 cells). Also the plate with 100 colonies had non e. coli contamination on it. If we consider the dataset without these outliers"
   ]
  },
  {
   "cell_type": "code",
   "execution_count": 5,
   "metadata": {
    "collapsed": true
   },
   "outputs": [],
   "source": [
    "aTc1_rif_cl = np.array([0,2,3,1,1,12,1,3,0])\n",
    "aTc4_rif_cl = np.array([0,0,0,0,0,1,0])\n",
    "aTc1_LB_cl = np.array([62,74,49,36,35,41,26,38,31])*2.5*10**6\n",
    "aTc4_LB_cl = np.array([34,51,31,46,36,37,50])*2.5*10**6"
   ]
  },
  {
   "cell_type": "code",
   "execution_count": 6,
   "metadata": {},
   "outputs": [
    {
     "name": "stdout",
     "output_type": "stream",
     "text": [
      "Optimization terminated successfully.\n",
      "         Current function value: 19.886422\n",
      "         Iterations: 14\n",
      "         Function evaluations: 28\n",
      "Optimization terminated successfully.\n",
      "         Current function value: 3.656222\n",
      "         Iterations: 13\n",
      "         Function evaluations: 26\n",
      "removing outliers the estimated mutation rate of ME121 Ptet-CH lacI RBS pTKIP-tetR with 2mM iptg and 1 ng/ml aTc is 1.03042493844e-08\n",
      "removing outliers the estimated mutation rate of ME121 Ptet-CH lacI RBS pTKIP-tetR with 2mM iptg and 4 ng/ml aTc is 1.37584867059e-09\n"
     ]
    },
    {
     "name": "stderr",
     "output_type": "stream",
     "text": [
      "/home/kuhlmanlab/Documents/GitHub/luriadelbruck.py:100: RuntimeWarning: divide by zero encountered in log\n",
      "  self.exog)))\n",
      "/home/kuhlmanlab/anaconda3/lib/python3.6/site-packages/statsmodels/base/model.py:473: HessianInversionWarning: Inverting hessian failed, no bse or cov_params available\n",
      "  'available', HessianInversionWarning)\n"
     ]
    }
   ],
   "source": [
    "sample1_inference_cl =ldb.SarkarMaSandri(aTc1_rif_cl, aTc1_LB_cl)\n",
    "sample3_inference_cl =ldb.SarkarMaSandri(aTc4_rif_cl, aTc4_LB_cl)\n",
    "results1_cl = sample1_inference_cl.fit()\n",
    "results3_cl = sample3_inference_cl.fit()\n",
    "print('removing outliers the estimated mutation rate of ME121 Ptet-CH lacI RBS pTKIP-tetR with 2mM iptg and 1 ng/ml aTc is', results1_cl.params[0])\n",
    "print('removing outliers the estimated mutation rate of ME121 Ptet-CH lacI RBS pTKIP-tetR with 2mM iptg and 4 ng/ml aTc is', results3_cl.params[0])"
   ]
  },
  {
   "cell_type": "markdown",
   "metadata": {},
   "source": [
    "This doesn't make a huge difference to the inference. I'd bet this is within any reasonable estimate of error."
   ]
  },
  {
   "cell_type": "code",
   "execution_count": null,
   "metadata": {
    "collapsed": true
   },
   "outputs": [],
   "source": []
  }
 ],
 "metadata": {
  "kernelspec": {
   "display_name": "Python 3",
   "language": "python",
   "name": "python3"
  },
  "language_info": {
   "codemirror_mode": {
    "name": "ipython",
    "version": 3
   },
   "file_extension": ".py",
   "mimetype": "text/x-python",
   "name": "python",
   "nbconvert_exporter": "python",
   "pygments_lexer": "ipython3",
   "version": "3.6.2"
  }
 },
 "nbformat": 4,
 "nbformat_minor": 1
}
